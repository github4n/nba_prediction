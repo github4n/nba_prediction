{
 "cells": [
  {
   "cell_type": "code",
   "execution_count": 1,
   "metadata": {},
   "outputs": [],
   "source": [
    "import pandas as pd\n",
    "import numpy as np\n",
    "from matplotlib import pyplot as plt\n",
    "%matplotlib inline"
   ]
  },
  {
   "cell_type": "markdown",
   "metadata": {},
   "source": [
    "属性构建\n",
    "- 考虑自我的属性：本场比赛与过去N场比赛的x、y中位数比较的结果（可取的值为两组0，1，还是-1,0,1？）；比较的指标有 FGM、FTM、AST、FG3M、OREB\n",
    "- 考虑对手的属性：本场比赛与下场比赛的对手的比较（可取的值为0或者1，需要考虑权重？），比较的内容可以概括为防守能力和防守特点，具体指标有：考虑过去N场比赛均值，OPP_PTS、OPP_FG3M、OPP_AST、OPP_FGM、OPP_OREB、DREB"
   ]
  },
  {
   "cell_type": "code",
   "execution_count": 2,
   "metadata": {},
   "outputs": [
    {
     "data": {
      "text/plain": [
       "Index(['SEASON_ID', 'TEAM_ID', 'TEAM_ABBREVIATION', 'TEAM_NAME', 'GAME_ID',\n",
       "       'GAME_DATE', 'MATCHUP', 'WL', 'MIN', 'FGM', 'FGA', 'FG_PCT', 'FG3M',\n",
       "       'FG3A', 'FG3_PCT', 'FTM', 'FTA', 'FT_PCT', 'OREB', 'DREB', 'REB', 'AST',\n",
       "       'STL', 'BLK', 'TOV', 'PF', 'PTS', 'PLUS_MINUS', 'VIDEO_AVAILABLE',\n",
       "       'TEAM_NAME_中文', 'TEAM_ID_Away', 'TEAM_ABBREVIATION_Away',\n",
       "       'TEAM_NAME_Away', 'MATCHUP_Away', 'WL_Away', 'FGM_Away', 'FGA_Away',\n",
       "       'FG_PCT_Away', 'FG3M_Away', 'FG3A_Away', 'FG3_PCT_Away', 'FTM_Away',\n",
       "       'FTA_Away', 'FT_PCT_Away', 'OREB_Away', 'DREB_Away', 'REB_Away',\n",
       "       'AST_Away', 'STL_Away', 'BLK_Away', 'TOV_Away', 'PF_Away', 'PTS_Away',\n",
       "       'PLUS_MINUS_Away', 'TEAM_NAME_中文_Away', 'awayOdds', 'awayQuarter1Score',\n",
       "       'awayQuarter2Score', 'awayScore', 'awayTeamId', 'awayTeamName', 'betId',\n",
       "       'expertsNum', 'firstAwayOdds', 'firstHostOdds', 'hostOdds',\n",
       "       'hostQuarter1Score', 'hostQuarter2Score', 'hostScore', 'hostTeamId',\n",
       "       'hostTeamName', 'jcLetScore', 'jcTotalScore', 'leagueId', 'leagueName',\n",
       "       'leagueType', 'letScoreTape', 'matchResult', 'matchStatus', 'matchTime',\n",
       "       'roundType', 'totalScoreTape', 'gameDate', '总分', '大小分', '比赛双方'],\n",
       "      dtype='object')"
      ]
     },
     "execution_count": 2,
     "metadata": {},
     "output_type": "execute_result"
    }
   ],
   "source": [
    "df = pd.read_excel('../数据清洗整理/2012-13-records.xlsx')\n",
    "df.columns"
   ]
  }
 ],
 "metadata": {
  "kernelspec": {
   "display_name": "Python 3",
   "language": "python",
   "name": "python3"
  },
  "language_info": {
   "codemirror_mode": {
    "name": "ipython",
    "version": 3
   },
   "file_extension": ".py",
   "mimetype": "text/x-python",
   "name": "python",
   "nbconvert_exporter": "python",
   "pygments_lexer": "ipython3",
   "version": "3.6.1"
  }
 },
 "nbformat": 4,
 "nbformat_minor": 2
}
