{
 "cells": [
  {
   "cell_type": "code",
   "execution_count": 1,
   "metadata": {},
   "outputs": [],
   "source": [
    "import pandas as pd\n",
    "import numpy as np\n",
    "from matplotlib import pyplot as plt\n",
    "from get_train_data import GetTrainData\n",
    "%matplotlib inline"
   ]
  },
  {
   "cell_type": "code",
   "execution_count": 4,
   "metadata": {},
   "outputs": [
    {
     "data": {
      "text/plain": [
       "array([], dtype=float64)"
      ]
     },
     "execution_count": 4,
     "metadata": {},
     "output_type": "execute_result"
    }
   ],
   "source": [
    "s=pd.Series()\n",
    "s.values"
   ]
  },
  {
   "cell_type": "markdown",
   "metadata": {},
   "source": [
    "属性构建\n",
    "- 考虑自我的属性：本场比赛与过去N场比赛的x、y中位数比较的结果（可取的值为两组0，1，还是-1,0,1？）；比较的指标有 FGM、FTM、AST、FG3M、OREB\n",
    "- 考虑对手的属性：本场比赛与下场比赛的对手的比较（可取的值为0或者1，需要考虑权重？），比较的内容可以概括为防守能力和防守特点，具体指标有：考虑过去N场比赛均值，PTS_OPP、FG3M_OPP、AST_OPP、FGM_OPP、OREB_OPP、DREB"
   ]
  },
  {
   "cell_type": "code",
   "execution_count": 2,
   "metadata": {},
   "outputs": [
    {
     "data": {
      "text/plain": [
       "Index(['SEASON_ID', 'TEAM_ID', 'TEAM_ABBREVIATION', 'TEAM_NAME', 'GAME_ID',\n",
       "       'GAME_DATE', 'MATCHUP', 'WL', 'MIN', 'FGM', 'FGA', 'FG_PCT', 'FG3M',\n",
       "       'FG3A', 'FG3_PCT', 'FTM', 'FTA', 'FT_PCT', 'OREB', 'DREB', 'REB', 'AST',\n",
       "       'STL', 'BLK', 'TOV', 'PF', 'PTS', 'PLUS_MINUS', 'TEAM_NAME_中文',\n",
       "       'jcTotalScore', '总分', '大小分', '比赛双方', '球队_OPP', 'FGM_OPP', 'FG3M_OPP',\n",
       "       'PTS_OPP', 'AST_OPP', 'OREB_OPP'],\n",
       "      dtype='object')"
      ]
     },
     "execution_count": 2,
     "metadata": {},
     "output_type": "execute_result"
    }
   ],
   "source": [
    "df = pd.read_excel('../数据清洗整理/2012-13-records-team_games.xlsx')\n",
    "df.columns"
   ]
  },
  {
   "cell_type": "raw",
   "metadata": {},
   "source": [
    "1.获取某个队前N场比赛，计算x,y中位数，比较第N+1场比赛FGM等指标与x,y中位数的大小，取-1,0,1三个值，依次将该队的数据(N+2，...80)计算完成\n",
    "2.获取某个队第N场比赛和第N+1场比赛的对手，计算两队前N场比赛的OPP_FGM等指标均值（怎么获取OPP_FGM等指标？问题难点：球队名称可能出现在host或者away两个位置，指标值也分host和away两种。解决方案：新建一个excel文件，每行一个球队，每场比赛变成2行，每一行添加‘OPP_FGM’等指标），依次将该队的数据(N+2,...80)计算完成"
   ]
  },
  {
   "cell_type": "code",
   "execution_count": 3,
   "metadata": {},
   "outputs": [
    {
     "data": {
      "text/html": [
       "<div>\n",
       "<style>\n",
       "    .dataframe thead tr:only-child th {\n",
       "        text-align: right;\n",
       "    }\n",
       "\n",
       "    .dataframe thead th {\n",
       "        text-align: left;\n",
       "    }\n",
       "\n",
       "    .dataframe tbody tr th {\n",
       "        vertical-align: top;\n",
       "    }\n",
       "</style>\n",
       "<table border=\"1\" class=\"dataframe\">\n",
       "  <thead>\n",
       "    <tr style=\"text-align: right;\">\n",
       "      <th></th>\n",
       "      <th>AST_big_0.75</th>\n",
       "      <th>AST_small_0.25</th>\n",
       "      <th>FG3M_big_0.75</th>\n",
       "      <th>FG3M_small_0.25</th>\n",
       "      <th>FGM_big_0.75</th>\n",
       "      <th>FGM_small_0.25</th>\n",
       "      <th>FTM_big_0.75</th>\n",
       "      <th>FTM_small_0.25</th>\n",
       "      <th>OREB_big_0.75</th>\n",
       "      <th>OREB_small_0.25</th>\n",
       "    </tr>\n",
       "  </thead>\n",
       "  <tbody>\n",
       "    <tr>\n",
       "      <th>0</th>\n",
       "      <td>0.0</td>\n",
       "      <td>0.0</td>\n",
       "      <td>0.0</td>\n",
       "      <td>1.0</td>\n",
       "      <td>0.0</td>\n",
       "      <td>0.0</td>\n",
       "      <td>0.0</td>\n",
       "      <td>0.0</td>\n",
       "      <td>1.0</td>\n",
       "      <td>0.0</td>\n",
       "    </tr>\n",
       "    <tr>\n",
       "      <th>1</th>\n",
       "      <td>0.0</td>\n",
       "      <td>1.0</td>\n",
       "      <td>0.0</td>\n",
       "      <td>1.0</td>\n",
       "      <td>0.0</td>\n",
       "      <td>0.0</td>\n",
       "      <td>0.0</td>\n",
       "      <td>0.0</td>\n",
       "      <td>1.0</td>\n",
       "      <td>0.0</td>\n",
       "    </tr>\n",
       "    <tr>\n",
       "      <th>2</th>\n",
       "      <td>0.0</td>\n",
       "      <td>0.0</td>\n",
       "      <td>0.0</td>\n",
       "      <td>1.0</td>\n",
       "      <td>1.0</td>\n",
       "      <td>0.0</td>\n",
       "      <td>0.0</td>\n",
       "      <td>1.0</td>\n",
       "      <td>1.0</td>\n",
       "      <td>0.0</td>\n",
       "    </tr>\n",
       "    <tr>\n",
       "      <th>3</th>\n",
       "      <td>0.0</td>\n",
       "      <td>1.0</td>\n",
       "      <td>0.0</td>\n",
       "      <td>1.0</td>\n",
       "      <td>1.0</td>\n",
       "      <td>0.0</td>\n",
       "      <td>0.0</td>\n",
       "      <td>1.0</td>\n",
       "      <td>1.0</td>\n",
       "      <td>0.0</td>\n",
       "    </tr>\n",
       "    <tr>\n",
       "      <th>4</th>\n",
       "      <td>0.0</td>\n",
       "      <td>0.0</td>\n",
       "      <td>1.0</td>\n",
       "      <td>0.0</td>\n",
       "      <td>1.0</td>\n",
       "      <td>0.0</td>\n",
       "      <td>0.0</td>\n",
       "      <td>1.0</td>\n",
       "      <td>0.0</td>\n",
       "      <td>0.0</td>\n",
       "    </tr>\n",
       "    <tr>\n",
       "      <th>5</th>\n",
       "      <td>1.0</td>\n",
       "      <td>0.0</td>\n",
       "      <td>0.0</td>\n",
       "      <td>0.0</td>\n",
       "      <td>1.0</td>\n",
       "      <td>0.0</td>\n",
       "      <td>0.0</td>\n",
       "      <td>1.0</td>\n",
       "      <td>1.0</td>\n",
       "      <td>0.0</td>\n",
       "    </tr>\n",
       "    <tr>\n",
       "      <th>6</th>\n",
       "      <td>0.0</td>\n",
       "      <td>0.0</td>\n",
       "      <td>0.0</td>\n",
       "      <td>0.0</td>\n",
       "      <td>0.0</td>\n",
       "      <td>0.0</td>\n",
       "      <td>0.0</td>\n",
       "      <td>1.0</td>\n",
       "      <td>0.0</td>\n",
       "      <td>1.0</td>\n",
       "    </tr>\n",
       "    <tr>\n",
       "      <th>7</th>\n",
       "      <td>1.0</td>\n",
       "      <td>0.0</td>\n",
       "      <td>0.0</td>\n",
       "      <td>0.0</td>\n",
       "      <td>0.0</td>\n",
       "      <td>0.0</td>\n",
       "      <td>0.0</td>\n",
       "      <td>0.0</td>\n",
       "      <td>0.0</td>\n",
       "      <td>1.0</td>\n",
       "    </tr>\n",
       "    <tr>\n",
       "      <th>8</th>\n",
       "      <td>1.0</td>\n",
       "      <td>0.0</td>\n",
       "      <td>1.0</td>\n",
       "      <td>0.0</td>\n",
       "      <td>0.0</td>\n",
       "      <td>0.0</td>\n",
       "      <td>0.0</td>\n",
       "      <td>0.0</td>\n",
       "      <td>0.0</td>\n",
       "      <td>0.0</td>\n",
       "    </tr>\n",
       "    <tr>\n",
       "      <th>9</th>\n",
       "      <td>1.0</td>\n",
       "      <td>0.0</td>\n",
       "      <td>0.0</td>\n",
       "      <td>1.0</td>\n",
       "      <td>1.0</td>\n",
       "      <td>0.0</td>\n",
       "      <td>0.0</td>\n",
       "      <td>0.0</td>\n",
       "      <td>0.0</td>\n",
       "      <td>1.0</td>\n",
       "    </tr>\n",
       "  </tbody>\n",
       "</table>\n",
       "</div>"
      ],
      "text/plain": [
       "   AST_big_0.75  AST_small_0.25  FG3M_big_0.75  FG3M_small_0.25  FGM_big_0.75  \\\n",
       "0           0.0             0.0            0.0              1.0           0.0   \n",
       "1           0.0             1.0            0.0              1.0           0.0   \n",
       "2           0.0             0.0            0.0              1.0           1.0   \n",
       "3           0.0             1.0            0.0              1.0           1.0   \n",
       "4           0.0             0.0            1.0              0.0           1.0   \n",
       "5           1.0             0.0            0.0              0.0           1.0   \n",
       "6           0.0             0.0            0.0              0.0           0.0   \n",
       "7           1.0             0.0            0.0              0.0           0.0   \n",
       "8           1.0             0.0            1.0              0.0           0.0   \n",
       "9           1.0             0.0            0.0              1.0           1.0   \n",
       "\n",
       "   FGM_small_0.25  FTM_big_0.75  FTM_small_0.25  OREB_big_0.75  \\\n",
       "0             0.0           0.0             0.0            1.0   \n",
       "1             0.0           0.0             0.0            1.0   \n",
       "2             0.0           0.0             1.0            1.0   \n",
       "3             0.0           0.0             1.0            1.0   \n",
       "4             0.0           0.0             1.0            0.0   \n",
       "5             0.0           0.0             1.0            1.0   \n",
       "6             0.0           0.0             1.0            0.0   \n",
       "7             0.0           0.0             0.0            0.0   \n",
       "8             0.0           0.0             0.0            0.0   \n",
       "9             0.0           0.0             0.0            0.0   \n",
       "\n",
       "   OREB_small_0.25  \n",
       "0              0.0  \n",
       "1              0.0  \n",
       "2              0.0  \n",
       "3              0.0  \n",
       "4              0.0  \n",
       "5              0.0  \n",
       "6              1.0  \n",
       "7              1.0  \n",
       "8              0.0  \n",
       "9              1.0  "
      ]
     },
     "execution_count": 3,
     "metadata": {},
     "output_type": "execute_result"
    }
   ],
   "source": [
    "teams = df['TEAM_NAME_中文'].unique()\n",
    "getData = GetTrainData()\n",
    "df_team = getData.get_team_features(df[df['TEAM_NAME_中文']==teams[0]])\n",
    "df_team.head(10)"
   ]
  },
  {
   "cell_type": "code",
   "execution_count": 9,
   "metadata": {},
   "outputs": [
    {
     "data": {
      "text/html": [
       "<div>\n",
       "<style>\n",
       "    .dataframe thead tr:only-child th {\n",
       "        text-align: right;\n",
       "    }\n",
       "\n",
       "    .dataframe thead th {\n",
       "        text-align: left;\n",
       "    }\n",
       "\n",
       "    .dataframe tbody tr th {\n",
       "        vertical-align: top;\n",
       "    }\n",
       "</style>\n",
       "<table border=\"1\" class=\"dataframe\">\n",
       "  <thead>\n",
       "    <tr style=\"text-align: right;\">\n",
       "      <th></th>\n",
       "      <th>FGM</th>\n",
       "      <th>FTM</th>\n",
       "      <th>AST</th>\n",
       "      <th>FG3M</th>\n",
       "      <th>OREB</th>\n",
       "    </tr>\n",
       "  </thead>\n",
       "  <tbody>\n",
       "    <tr>\n",
       "      <th>0.25</th>\n",
       "      <td>37.25</td>\n",
       "      <td>6.0</td>\n",
       "      <td>22.25</td>\n",
       "      <td>4.25</td>\n",
       "      <td>8.50</td>\n",
       "    </tr>\n",
       "    <tr>\n",
       "      <th>0.75</th>\n",
       "      <td>42.50</td>\n",
       "      <td>16.5</td>\n",
       "      <td>24.00</td>\n",
       "      <td>7.75</td>\n",
       "      <td>13.75</td>\n",
       "    </tr>\n",
       "  </tbody>\n",
       "</table>\n",
       "</div>"
      ],
      "text/plain": [
       "        FGM   FTM    AST  FG3M   OREB\n",
       "0.25  37.25   6.0  22.25  4.25   8.50\n",
       "0.75  42.50  16.5  24.00  7.75  13.75"
      ]
     },
     "execution_count": 9,
     "metadata": {},
     "output_type": "execute_result"
    }
   ],
   "source": [
    "a,b = getData.validate_feature(df[df['TEAM_NAME_中文']==teams[0]],18)\n",
    "a"
   ]
  },
  {
   "cell_type": "code",
   "execution_count": 10,
   "metadata": {},
   "outputs": [
    {
     "data": {
      "text/plain": [
       "FGM     39\n",
       "FTM     10\n",
       "AST     28\n",
       "FG3M    11\n",
       "OREB    10\n",
       "Name: 18, dtype: int64"
      ]
     },
     "execution_count": 10,
     "metadata": {},
     "output_type": "execute_result"
    }
   ],
   "source": [
    "b"
   ]
  }
 ],
 "metadata": {
  "kernelspec": {
   "display_name": "Python 3",
   "language": "python",
   "name": "python3"
  },
  "language_info": {
   "codemirror_mode": {
    "name": "ipython",
    "version": 3
   },
   "file_extension": ".py",
   "mimetype": "text/x-python",
   "name": "python",
   "nbconvert_exporter": "python",
   "pygments_lexer": "ipython3",
   "version": "3.6.1"
  }
 },
 "nbformat": 4,
 "nbformat_minor": 2
}
