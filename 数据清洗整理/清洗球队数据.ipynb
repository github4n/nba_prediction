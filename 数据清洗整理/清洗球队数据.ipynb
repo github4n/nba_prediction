{
 "cells": [
  {
   "cell_type": "markdown",
   "metadata": {},
   "source": [
    "1.先把不需要的列删掉：涉及排名的列"
   ]
  },
  {
   "cell_type": "code",
   "execution_count": 8,
   "metadata": {},
   "outputs": [
    {
     "name": "stdout",
     "output_type": "stream",
     "text": [
      "Index(['GAME_ID', 'PTS_OFF_TOV', 'TEAM_NAME', 'PLUS_MINUS', 'AST_PCT', 'FTM',\n",
      "       'PCT_FGA_3PT', 'AST_RATIO', 'GAME_DATE', 'TEAM_ABBREVIATION', 'FG_PCT',\n",
      "       'STL', 'REB', 'OPP_OREB_PCT', 'FTA_RATE', 'PCT_UAST_FGM', 'EFG_PCT',\n",
      "       'PCT_AST_3PM', 'DREB_PCT', 'PTS_PAINT', 'PTS_FB', 'BLK',\n",
      "       'OPP_PTS_OFF_TOV', 'FT_PCT', 'PFD', 'DREB', 'MIN', 'PCT_PTS_FB',\n",
      "       'OPP_PTS_2ND_CHANCE', 'PCT_PTS_FT', 'MATCHUP', 'TS_PCT', 'OPP_TOV_PCT',\n",
      "       'PCT_PTS_2PT', 'PCT_FGA_2PT', 'OPP_FTA_RATE', 'TM_TOV_PCT', 'OREB',\n",
      "       'TOV', 'OFF_RATING', 'REB_PCT', 'FGA', 'PCT_PTS_OFF_TOV', 'FTA',\n",
      "       'PCT_PTS_2PT_MR', 'PF', 'PCT_PTS_PAINT', 'PCT_UAST_3PM', 'DEF_RATING',\n",
      "       'TEAM_ID', 'WL', 'FG3A', 'SEASON_YEAR', 'OPP_EFG_PCT', 'OPP_PTS_FB',\n",
      "       'OPP_PTS_PAINT', 'PCT_UAST_2PM', 'PCT_AST_2PM', 'NET_RATING', 'AST_TO',\n",
      "       'PACE', 'AST', 'FGM', 'FG3_PCT', 'PCT_PTS_3PT', 'BLKA',\n",
      "       'PTS_2ND_CHANCE', 'FG3M', 'PTS', 'PIE', 'OREB_PCT', 'PCT_AST_FGM'],\n",
      "      dtype='object')\n"
     ]
    }
   ],
   "source": [
    "import matplotlib.pyplot as plt\n",
    "import pandas as pd\n",
    "import matplotlib\n",
    "import os\n",
    "%matplotlib inline\n",
    "\n",
    "def delete_col(fn,is_print=False):\n",
    "    df = pd.read_excel(fn)\n",
    "    columns = list(df.columns)\n",
    "    columns = [col for col in columns if \"RANK\" not in col]\n",
    "    df = df[columns]\n",
    "    df.to_excel(os.path.basename(fn),index=False)\n",
    "    if is_print:\n",
    "        print(df.columns)\n",
    "        \n",
    "is_print = True\n",
    "for fn in os.listdir('../数据收集'):\n",
    "    if fn.endswith('.xlsx'):\n",
    "        delete_col('../数据收集/'+fn,is_print)\n",
    "    is_print = False if is_print else is_print"
   ]
  },
  {
   "cell_type": "markdown",
   "metadata": {
    "collapsed": true
   },
   "source": [
    "[]选取列，.loc[，]选取行和列，可省略列，表示所有的列全选，相当于切片:<br\\>\n",
    "- pd.read_excel()<br\\>\n",
    "- df.index<br\\>\n",
    "- df.columns<br\\>\n",
    "- df.dtypes<br\\>\n",
    "- df.info()<br\\>\n",
    "- df.describe()<br\\>\n",
    "- df.to_excel()"
   ]
  },
  {
   "cell_type": "code",
   "execution_count": null,
   "metadata": {
    "collapsed": true
   },
   "outputs": [],
   "source": []
  },
  {
   "cell_type": "code",
   "execution_count": null,
   "metadata": {
    "collapsed": true
   },
   "outputs": [],
   "source": []
  }
 ],
 "metadata": {
  "celltoolbar": "Raw Cell Format",
  "kernelspec": {
   "display_name": "Python 3",
   "language": "python",
   "name": "python3"
  },
  "language_info": {
   "codemirror_mode": {
    "name": "ipython",
    "version": 3
   },
   "file_extension": ".py",
   "mimetype": "text/x-python",
   "name": "python",
   "nbconvert_exporter": "python",
   "pygments_lexer": "ipython3",
   "version": "3.6.1"
  }
 },
 "nbformat": 4,
 "nbformat_minor": 2
}
