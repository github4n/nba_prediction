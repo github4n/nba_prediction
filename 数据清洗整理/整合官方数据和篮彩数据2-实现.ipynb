{
 "cells": [
  {
   "cell_type": "code",
   "execution_count": 1,
   "metadata": {},
   "outputs": [],
   "source": [
    "import pandas as pd\n",
    "import numpy as np\n",
    "import os"
   ]
  },
  {
   "cell_type": "code",
   "execution_count": 6,
   "metadata": {},
   "outputs": [],
   "source": [
    "def get_namedict():\n",
    "    name_dict = {}\n",
    "    with open('../数据收集/english_name-to-chinese_name.txt','r',encoding='utf-8') as f:\n",
    "        for line in f.read().split('\\n'):\n",
    "            if line:\n",
    "                e,c = line.split('-')\n",
    "                name_dict[e]=c\n",
    "    return name_dict\n",
    "\n",
    "def merge_one_df(df):\n",
    "    df_group = df.group_by('GAME_ID')\n",
    "    df_result=pd.DataFrame()\n",
    "    columns = df.columns.append(df.columns.map(lambda x: 'Away_'+x))\n",
    "    for game_id in df['GAME_ID'].unique():\n",
    "        df_x_game = df_group.get_group(game_id)\n",
    "        host_values = df_x_game[df_x_game['MATCHUP'].str.contains('vs.')].iloc[0].values\n",
    "        away_values = df_x_game[df_x_game['MATCHUP'].str.contains('@')].iloc[0].values\n",
    "        df_result = df_result.append(pd.DataFrame(np.concatenate(host_values,away_values),index=columns).T)\n",
    "    return df_result"
   ]
  },
  {
   "cell_type": "code",
   "execution_count": null,
   "metadata": {},
   "outputs": [],
   "source": [
    "year_dirs = ['../数据收集/'+f for f in os.listdir('../数据收集') if '.' not in f]\n",
    "name_dict = get_namedict()\n",
    "for year in year_dirs:\n",
    "    df_nba = pd.read_excel(year+'/games.xlsx')\n",
    "    df_lottery = pd.read_excel(year+'/lottery_results.xlsx')\n",
    "    df_nba['TEAM_NAME_中文'] = df_nba['TEAM_NAME'].map(lambda x:name_dict[x])\n",
    "    df_nba = merge_one_df(df_nba)\n",
    "    df_lottery = df_lottery.drop_duplicates('betId')\n",
    "    df_lottery['gameDate'] = df_lottery['gameTime'].map(lambda x:x.split(' ')[0])\n",
    "    df_nba.sort_values(['GAME_DATE','TEAM_NAME_中文'],inplace = True)\n",
    "    df_lottery.sort_values(['gameDate','hostTeamName'],inplace = True)\n",
    "    "
   ]
  },
  {
   "cell_type": "code",
   "execution_count": 24,
   "metadata": {},
   "outputs": [],
   "source": [
    "a=pd.DataFrame([[1,2,3],[4,5,6]],columns=['a','b','c'])\n",
    "b=pd.DataFrame([[77,88],[99,100]],columns=['a','h'])"
   ]
  },
  {
   "cell_type": "code",
   "execution_count": 27,
   "metadata": {},
   "outputs": [
    {
     "data": {
      "text/html": [
       "<div>\n",
       "<style>\n",
       "    .dataframe thead tr:only-child th {\n",
       "        text-align: right;\n",
       "    }\n",
       "\n",
       "    .dataframe thead th {\n",
       "        text-align: left;\n",
       "    }\n",
       "\n",
       "    .dataframe tbody tr th {\n",
       "        vertical-align: top;\n",
       "    }\n",
       "</style>\n",
       "<table border=\"1\" class=\"dataframe\">\n",
       "  <thead>\n",
       "    <tr style=\"text-align: right;\">\n",
       "      <th></th>\n",
       "      <th>a</th>\n",
       "      <th>b</th>\n",
       "      <th>c</th>\n",
       "      <th>h</th>\n",
       "    </tr>\n",
       "  </thead>\n",
       "  <tbody>\n",
       "  </tbody>\n",
       "</table>\n",
       "</div>"
      ],
      "text/plain": [
       "Empty DataFrame\n",
       "Columns: [a, b, c, h]\n",
       "Index: []"
      ]
     },
     "execution_count": 27,
     "metadata": {},
     "output_type": "execute_result"
    }
   ],
   "source": [
    "a.merge(b,on='a')"
   ]
  }
 ],
 "metadata": {
  "kernelspec": {
   "display_name": "Python 3",
   "language": "python",
   "name": "python3"
  },
  "language_info": {
   "codemirror_mode": {
    "name": "ipython",
    "version": 3
   },
   "file_extension": ".py",
   "mimetype": "text/x-python",
   "name": "python",
   "nbconvert_exporter": "python",
   "pygments_lexer": "ipython3",
   "version": "3.6.1"
  }
 },
 "nbformat": 4,
 "nbformat_minor": 2
}
