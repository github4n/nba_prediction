{
 "cells": [
  {
   "cell_type": "code",
   "execution_count": 4,
   "metadata": {},
   "outputs": [
    {
     "name": "stdout",
     "output_type": "stream",
     "text": [
      "Index(['GAME_ID', 'PTS_OFF_TOV', 'TEAM_NAME', 'PLUS_MINUS', 'AST_PCT', 'FTM',\n",
      "       'PCT_FGA_3PT', 'AST_RATIO', 'GAME_DATE', 'TEAM_ABBREVIATION', 'FG_PCT',\n",
      "       'STL', 'REB', 'OPP_OREB_PCT', 'FTA_RATE', 'PCT_UAST_FGM', 'EFG_PCT',\n",
      "       'PCT_AST_3PM', 'DREB_PCT', 'PTS_PAINT', 'PTS_FB', 'BLK',\n",
      "       'OPP_PTS_OFF_TOV', 'FT_PCT', 'PFD', 'DREB', 'MIN', 'PCT_PTS_FB',\n",
      "       'OPP_PTS_2ND_CHANCE', 'PCT_PTS_FT', 'MATCHUP', 'TS_PCT', 'OPP_TOV_PCT',\n",
      "       'PCT_PTS_2PT', 'PCT_FGA_2PT', 'OPP_FTA_RATE', 'TM_TOV_PCT', 'OREB',\n",
      "       'TOV', 'OFF_RATING', 'REB_PCT', 'FGA', 'PCT_PTS_OFF_TOV', 'FTA',\n",
      "       'PCT_PTS_2PT_MR', 'PF', 'PCT_PTS_PAINT', 'PCT_UAST_3PM', 'DEF_RATING',\n",
      "       'TEAM_ID', 'WL', 'FG3A', 'SEASON_YEAR', 'OPP_EFG_PCT', 'OPP_PTS_FB',\n",
      "       'OPP_PTS_PAINT', 'PCT_UAST_2PM', 'PCT_AST_2PM', 'NET_RATING', 'AST_TO',\n",
      "       'PACE', 'AST', 'FGM', 'FG3_PCT', 'PCT_PTS_3PT', 'BLKA',\n",
      "       'PTS_2ND_CHANCE', 'FG3M', 'PTS', 'PIE', 'OREB_PCT', 'PCT_AST_FGM'],\n",
      "      dtype='object')\n",
      "            GAME_ID  PTS_OFF_TOV  PLUS_MINUS    AST_PCT        FTM  \\\n",
      "count  8.200000e+01    82.000000   82.000000  82.000000  82.000000   \n",
      "mean   2.160062e+07    16.329268   -0.853659   0.619220  18.097561   \n",
      "std    3.577852e+02     6.505562   14.289876   0.093586   6.349122   \n",
      "min    2.160001e+07     3.000000  -44.000000   0.382000   4.000000   \n",
      "25%    2.160030e+07    12.000000   -9.750000   0.565750  14.000000   \n",
      "50%    2.160062e+07    15.000000    1.000000   0.625000  19.000000   \n",
      "75%    2.160092e+07    20.750000    7.000000   0.686750  22.000000   \n",
      "max    2.160123e+07    35.000000   32.000000   0.867000  37.000000   \n",
      "\n",
      "       PCT_FGA_3PT  AST_RATIO     FG_PCT        STL        REB     ...       \\\n",
      "count    82.000000  82.000000  82.000000  82.000000  82.000000     ...        \n",
      "mean      0.310598  17.459756   0.452098   8.195122  44.329268     ...        \n",
      "std       0.056320   3.124094   0.054951   3.100932   6.627766     ...        \n",
      "min       0.211000   9.700000   0.313000   1.000000  30.000000     ...        \n",
      "25%       0.269000  15.425000   0.411250   6.000000  39.250000     ...        \n",
      "50%       0.302000  17.350000   0.451500   8.000000  45.000000     ...        \n",
      "75%       0.341750  19.700000   0.500000  10.000000  48.000000     ...        \n",
      "max       0.444000  27.400000   0.563000  17.000000  64.000000     ...        \n",
      "\n",
      "             FGM    FG3_PCT  PCT_PTS_3PT       BLKA  PTS_2ND_CHANCE  \\\n",
      "count  82.000000  82.000000    82.000000  82.000000       82.000000   \n",
      "mean   38.085366   0.341341     0.258439   5.170732       13.475610   \n",
      "std     5.407359   0.085303     0.069999   2.423164        7.039966   \n",
      "min    26.000000   0.185000     0.109000   0.000000        3.000000   \n",
      "25%    34.000000   0.270000     0.211250   3.250000        8.000000   \n",
      "50%    37.500000   0.328500     0.251000   5.000000       12.500000   \n",
      "75%    42.000000   0.389500     0.306750   7.000000       19.750000   \n",
      "max    52.000000   0.567000     0.429000  11.000000       36.000000   \n",
      "\n",
      "            FG3M         PTS        PIE   OREB_PCT  PCT_AST_FGM  \n",
      "count  82.000000   82.000000  82.000000  82.000000    82.000000  \n",
      "mean    8.890244  103.158537   0.505756   0.235024     0.619220  \n",
      "std     2.671320   12.373278   0.096324   0.080012     0.093586  \n",
      "min     4.000000   68.000000   0.267000   0.086000     0.382000  \n",
      "25%     7.000000   95.000000   0.442000   0.170250     0.565750  \n",
      "50%     8.500000  103.000000   0.513000   0.225000     0.625000  \n",
      "75%    11.000000  111.000000   0.568750   0.295000     0.686750  \n",
      "max    17.000000  142.000000   0.742000   0.429000     0.867000  \n",
      "\n",
      "[8 rows x 66 columns]\n"
     ]
    }
   ],
   "source": [
    "import pandas as pd\n",
    "\n",
    "def delete_col(fn):\n",
    "    excel = pd.read_excel(fn)\n",
    "    columns = list(excel.columns)\n",
    "    columns = [col for col in columns if \"RANK\" not in col]\n",
    "    excel = excel.loc[:,columns]\n",
    "    print(excel.columns)\n",
    "    print(excel.describe())\n",
    "\n",
    "delete_col(\"Atlanta Hawks.xlsx\")"
   ]
  },
  {
   "cell_type": "code",
   "execution_count": null,
   "metadata": {
    "collapsed": true
   },
   "outputs": [],
   "source": []
  }
 ],
 "metadata": {
  "celltoolbar": "Raw Cell Format",
  "kernelspec": {
   "display_name": "Python 3",
   "language": "python",
   "name": "python3"
  },
  "language_info": {
   "codemirror_mode": {
    "name": "ipython",
    "version": 3
   },
   "file_extension": ".py",
   "mimetype": "text/x-python",
   "name": "python",
   "nbconvert_exporter": "python",
   "pygments_lexer": "ipython3",
   "version": "3.6.1"
  }
 },
 "nbformat": 4,
 "nbformat_minor": 2
}
