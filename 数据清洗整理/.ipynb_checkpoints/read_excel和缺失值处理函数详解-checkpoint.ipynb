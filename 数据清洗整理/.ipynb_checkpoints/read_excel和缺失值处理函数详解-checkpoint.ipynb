{
 "cells": [
  {
   "cell_type": "code",
   "execution_count": 16,
   "metadata": {
    "collapsed": true
   },
   "outputs": [],
   "source": [
    " #首先要引入各个包\n",
    "import matplotlib.pyplot as plt\n",
    "import pandas as pd\n",
    "import numpy as np\n",
    "import matplotlib\n",
    "import os\n",
    "%matplotlib inline"
   ]
  },
  {
   "cell_type": "markdown",
   "metadata": {},
   "source": [
    "- isnull()、notnull()\n",
    "- fillna()\n",
    "- dropna()\n",
    "- astype()"
   ]
  },
  {
   "cell_type": "code",
   "execution_count": 17,
   "metadata": {},
   "outputs": [
    {
     "data": {
      "text/plain": [
       "0    atlanta hawks\n",
       "1    atlanta hawks\n",
       "2    atlanta hawks\n",
       "3    atlanta hawks\n",
       "4    atlanta hawks\n",
       "5    atlanta hawks\n",
       "6    atlanta hawks\n",
       "7    atlanta hawks\n",
       "8    atlanta hawks\n",
       "9    atlanta hawks\n",
       "Name: TEAM_NAME, dtype: object"
      ]
     },
     "execution_count": 17,
     "metadata": {},
     "output_type": "execute_result"
    }
   ],
   "source": [
    "df = pd.read_excel('Atlanta Hawks.xlsx',dtype={'GAME_ID':str},na_values=['ATL @ PHI','ATL @ NYK','ATL @ POR'],converters={'TEAM_NAME':lambda cell:cell.lower()})\n",
    "df['TEAM_NAME'][:10]\n",
    "#dtype指定某列的数据类型，na_values指定缺失值，converters指定某列的转换函数，若converters和dtype同时指定某一列，则以converters为准"
   ]
  },
  {
   "cell_type": "code",
   "execution_count": 18,
   "metadata": {},
   "outputs": [
    {
     "data": {
      "text/plain": [
       "0       ATL @ IND\n",
       "1     ATL vs. CHA\n",
       "2     ATL vs. CLE\n",
       "3       ATL @ CLE\n",
       "4     ATL vs. BOS\n",
       "5       ATL @ BKN\n",
       "6       ATL @ CHI\n",
       "7             NaN\n",
       "8     ATL vs. PHX\n",
       "9     ATL vs. BKN\n",
       "10      ATL @ MIL\n",
       "11      ATL @ WAS\n",
       "12      ATL @ CHA\n",
       "13    ATL vs. POR\n",
       "14    ATL vs. MEM\n",
       "15      ATL @ SAS\n",
       "16      ATL @ MEM\n",
       "17    ATL vs. TOR\n",
       "18    ATL vs. BKN\n",
       "19    ATL vs. GSW\n",
       "Name: MATCHUP, dtype: object"
      ]
     },
     "execution_count": 18,
     "metadata": {},
     "output_type": "execute_result"
    }
   ],
   "source": [
    "df['MATCHUP'][:20]"
   ]
  },
  {
   "cell_type": "code",
   "execution_count": 19,
   "metadata": {},
   "outputs": [
    {
     "data": {
      "text/plain": [
       "0    21601226\n",
       "1    21601212\n",
       "2    21601197\n",
       "3    21601179\n",
       "4    21601177\n",
       "Name: GAME_ID, dtype: object"
      ]
     },
     "execution_count": 19,
     "metadata": {},
     "output_type": "execute_result"
    }
   ],
   "source": [
    "df['GAME_ID'][:5]"
   ]
  },
  {
   "cell_type": "code",
   "execution_count": 20,
   "metadata": {},
   "outputs": [
    {
     "name": "stderr",
     "output_type": "stream",
     "text": [
      "d:\\program_files\\python36\\lib\\site-packages\\ipykernel_launcher.py:1: SettingWithCopyWarning: \n",
      "A value is trying to be set on a copy of a slice from a DataFrame\n",
      "\n",
      "See the caveats in the documentation: http://pandas.pydata.org/pandas-docs/stable/indexing.html#indexing-view-versus-copy\n",
      "  \"\"\"Entry point for launching an IPython kernel.\n"
     ]
    },
    {
     "data": {
      "text/plain": [
       "0    misss\n",
       "1       30\n",
       "2       31\n",
       "3    misss\n",
       "4       26\n",
       "5       19\n",
       "6       25\n",
       "7       19\n",
       "8       24\n",
       "9       16\n",
       "Name: AST, dtype: object"
      ]
     },
     "execution_count": 20,
     "metadata": {},
     "output_type": "execute_result"
    }
   ],
   "source": [
    "df['AST'][[0,3]]=np.nan\n",
    "df['AST'].fillna('misss')[:10]"
   ]
  },
  {
   "cell_type": "code",
   "execution_count": 21,
   "metadata": {},
   "outputs": [
    {
     "data": {
      "text/plain": [
       "0     NaN\n",
       "1    30.0\n",
       "2    31.0\n",
       "3    31.0\n",
       "4    26.0\n",
       "5    19.0\n",
       "6    25.0\n",
       "7    19.0\n",
       "8    24.0\n",
       "9    16.0\n",
       "Name: AST, dtype: float64"
      ]
     },
     "execution_count": 21,
     "metadata": {},
     "output_type": "execute_result"
    }
   ],
   "source": [
    "df['AST'][[0,3]]=np.nan\n",
    "df['AST'].fillna(method='pad')[:10]"
   ]
  },
  {
   "cell_type": "code",
   "execution_count": 22,
   "metadata": {},
   "outputs": [
    {
     "data": {
      "text/plain": [
       "0    30.0\n",
       "1    30.0\n",
       "2    31.0\n",
       "3    26.0\n",
       "4    26.0\n",
       "5    19.0\n",
       "6    25.0\n",
       "7    19.0\n",
       "8    24.0\n",
       "9    16.0\n",
       "Name: AST, dtype: float64"
      ]
     },
     "execution_count": 22,
     "metadata": {},
     "output_type": "execute_result"
    }
   ],
   "source": [
    "df['AST'].fillna(method='backfill')[:10]"
   ]
  },
  {
   "cell_type": "code",
   "execution_count": 23,
   "metadata": {},
   "outputs": [
    {
     "data": {
      "text/plain": [
       "0    23.5\n",
       "1    30.0\n",
       "2    31.0\n",
       "3    23.5\n",
       "4    26.0\n",
       "5    19.0\n",
       "6    25.0\n",
       "7    19.0\n",
       "8    24.0\n",
       "9    16.0\n",
       "Name: AST, dtype: float64"
      ]
     },
     "execution_count": 23,
     "metadata": {},
     "output_type": "execute_result"
    }
   ],
   "source": [
    "df['AST'].fillna(df['AST'].mean(),inplace=True)\n",
    "df['AST'][:10]"
   ]
  },
  {
   "cell_type": "code",
   "execution_count": 24,
   "metadata": {},
   "outputs": [
    {
     "name": "stdout",
     "output_type": "stream",
     "text": [
      "Help on method astype in module pandas.core.generic:\n",
      "\n",
      "astype(dtype, copy=True, errors='raise', **kwargs) method of pandas.core.frame.DataFrame instance\n",
      "    Cast object to input numpy.dtype\n",
      "    Return a copy when copy = True (be really careful with this!)\n",
      "    \n",
      "    Parameters\n",
      "    ----------\n",
      "    dtype : data type, or dict of column name -> data type\n",
      "        Use a numpy.dtype or Python type to cast entire pandas object to\n",
      "        the same type. Alternatively, use {col: dtype, ...}, where col is a\n",
      "        column label and dtype is a numpy.dtype or Python type to cast one\n",
      "        or more of the DataFrame's columns to column-specific types.\n",
      "    errors : {'raise', 'ignore'}, default 'raise'.\n",
      "        Control raising of exceptions on invalid data for provided dtype.\n",
      "    \n",
      "        - ``raise`` : allow exceptions to be raised\n",
      "        - ``ignore`` : suppress exceptions. On error return original object\n",
      "    \n",
      "        .. versionadded:: 0.20.0\n",
      "    \n",
      "    raise_on_error : DEPRECATED use ``errors`` instead\n",
      "    kwargs : keyword arguments to pass on to the constructor\n",
      "    \n",
      "    Returns\n",
      "    -------\n",
      "    casted : type of caller\n",
      "\n"
     ]
    }
   ],
   "source": [
    "help(df.astype) #更改某一列的数据类型"
   ]
  },
  {
   "cell_type": "code",
   "execution_count": 25,
   "metadata": {},
   "outputs": [
    {
     "name": "stdout",
     "output_type": "stream",
     "text": [
      "Help on method isnull in module pandas.core.generic:\n",
      "\n",
      "isnull() method of pandas.core.frame.DataFrame instance\n",
      "    Return a boolean same-sized object indicating if the values are null.\n",
      "    \n",
      "    See Also\n",
      "    --------\n",
      "    notnull : boolean inverse of isnull\n",
      "\n"
     ]
    }
   ],
   "source": [
    "help(df.isnull)"
   ]
  },
  {
   "cell_type": "code",
   "execution_count": 26,
   "metadata": {},
   "outputs": [
    {
     "name": "stdout",
     "output_type": "stream",
     "text": [
      "Help on method notnull in module pandas.core.generic:\n",
      "\n",
      "notnull() method of pandas.core.frame.DataFrame instance\n",
      "    Return a boolean same-sized object indicating if the values are\n",
      "    not null.\n",
      "    \n",
      "    See Also\n",
      "    --------\n",
      "    isnull : boolean inverse of notnull\n",
      "\n"
     ]
    }
   ],
   "source": [
    "help(df.notnull)"
   ]
  },
  {
   "cell_type": "code",
   "execution_count": 27,
   "metadata": {},
   "outputs": [
    {
     "name": "stdout",
     "output_type": "stream",
     "text": [
      "Help on method fillna in module pandas.core.frame:\n",
      "\n",
      "fillna(value=None, method=None, axis=None, inplace=False, limit=None, downcast=None, **kwargs) method of pandas.core.frame.DataFrame instance\n",
      "    Fill NA/NaN values using the specified method\n",
      "    \n",
      "    Parameters\n",
      "    ----------\n",
      "    value : scalar, dict, Series, or DataFrame\n",
      "        Value to use to fill holes (e.g. 0), alternately a\n",
      "        dict/Series/DataFrame of values specifying which value to use for\n",
      "        each index (for a Series) or column (for a DataFrame). (values not\n",
      "        in the dict/Series/DataFrame will not be filled). This value cannot\n",
      "        be a list.\n",
      "    method : {'backfill', 'bfill', 'pad', 'ffill', None}, default None\n",
      "        Method to use for filling holes in reindexed Series\n",
      "        pad / ffill: propagate last valid observation forward to next valid\n",
      "        backfill / bfill: use NEXT valid observation to fill gap\n",
      "    axis : {0 or 'index', 1 or 'columns'}\n",
      "    inplace : boolean, default False\n",
      "        If True, fill in place. Note: this will modify any\n",
      "        other views on this object, (e.g. a no-copy slice for a column in a\n",
      "        DataFrame).\n",
      "    limit : int, default None\n",
      "        If method is specified, this is the maximum number of consecutive\n",
      "        NaN values to forward/backward fill. In other words, if there is\n",
      "        a gap with more than this number of consecutive NaNs, it will only\n",
      "        be partially filled. If method is not specified, this is the\n",
      "        maximum number of entries along the entire axis where NaNs will be\n",
      "        filled. Must be greater than 0 if not None.\n",
      "    downcast : dict, default is None\n",
      "        a dict of item->dtype of what to downcast if possible,\n",
      "        or the string 'infer' which will try to downcast to an appropriate\n",
      "        equal type (e.g. float64 to int64 if possible)\n",
      "    \n",
      "    See Also\n",
      "    --------\n",
      "    reindex, asfreq\n",
      "    \n",
      "    Returns\n",
      "    -------\n",
      "    filled : DataFrame\n",
      "\n"
     ]
    }
   ],
   "source": [
    "help(df.fillna) #value指定填充的值 method指定填充的方法 inplace指定是否修改原对象而不产生副本"
   ]
  },
  {
   "cell_type": "code",
   "execution_count": 28,
   "metadata": {},
   "outputs": [
    {
     "name": "stdout",
     "output_type": "stream",
     "text": [
      "Help on method dropna in module pandas.core.frame:\n",
      "\n",
      "dropna(axis=0, how='any', thresh=None, subset=None, inplace=False) method of pandas.core.frame.DataFrame instance\n",
      "    Return object with labels on given axis omitted where alternately any\n",
      "    or all of the data are missing\n",
      "    \n",
      "    Parameters\n",
      "    ----------\n",
      "    axis : {0 or 'index', 1 or 'columns'}, or tuple/list thereof\n",
      "        Pass tuple or list to drop on multiple axes\n",
      "    how : {'any', 'all'}\n",
      "        * any : if any NA values are present, drop that label\n",
      "        * all : if all values are NA, drop that label\n",
      "    thresh : int, default None\n",
      "        int value : require that many non-NA values\n",
      "    subset : array-like\n",
      "        Labels along other axis to consider, e.g. if you are dropping rows\n",
      "        these would be a list of columns to include\n",
      "    inplace : boolean, default False\n",
      "        If True, do operation inplace and return None.\n",
      "    \n",
      "    Returns\n",
      "    -------\n",
      "    dropped : DataFrame\n",
      "    \n",
      "    Examples\n",
      "    --------\n",
      "    >>> df = pd.DataFrame([[np.nan, 2, np.nan, 0], [3, 4, np.nan, 1],\n",
      "    ...                    [np.nan, np.nan, np.nan, 5]],\n",
      "    ...                   columns=list('ABCD'))\n",
      "    >>> df\n",
      "         A    B   C  D\n",
      "    0  NaN  2.0 NaN  0\n",
      "    1  3.0  4.0 NaN  1\n",
      "    2  NaN  NaN NaN  5\n",
      "    \n",
      "    Drop the columns where all elements are nan:\n",
      "    \n",
      "    >>> df.dropna(axis=1, how='all')\n",
      "         A    B  D\n",
      "    0  NaN  2.0  0\n",
      "    1  3.0  4.0  1\n",
      "    2  NaN  NaN  5\n",
      "    \n",
      "    Drop the columns where any of the elements is nan\n",
      "    \n",
      "    >>> df.dropna(axis=1, how='any')\n",
      "       D\n",
      "    0  0\n",
      "    1  1\n",
      "    2  5\n",
      "    \n",
      "    Drop the rows where all of the elements are nan\n",
      "    (there is no row to drop, so df stays the same):\n",
      "    \n",
      "    >>> df.dropna(axis=0, how='all')\n",
      "         A    B   C  D\n",
      "    0  NaN  2.0 NaN  0\n",
      "    1  3.0  4.0 NaN  1\n",
      "    2  NaN  NaN NaN  5\n",
      "    \n",
      "    Keep only the rows with at least 2 non-na values:\n",
      "    \n",
      "    >>> df.dropna(thresh=2)\n",
      "         A    B   C  D\n",
      "    0  NaN  2.0 NaN  0\n",
      "    1  3.0  4.0 NaN  1\n",
      "\n"
     ]
    }
   ],
   "source": [
    "help(df.dropna) #axis指定删除行还是列 how指定删除条件 thresh指定保留条件：至少包含多少个非缺失值才不删除"
   ]
  }
 ],
 "metadata": {
  "kernelspec": {
   "display_name": "Python 3",
   "language": "python",
   "name": "python3"
  },
  "language_info": {
   "codemirror_mode": {
    "name": "ipython",
    "version": 3
   },
   "file_extension": ".py",
   "mimetype": "text/x-python",
   "name": "python",
   "nbconvert_exporter": "python",
   "pygments_lexer": "ipython3",
   "version": "3.6.1"
  }
 },
 "nbformat": 4,
 "nbformat_minor": 2
}
