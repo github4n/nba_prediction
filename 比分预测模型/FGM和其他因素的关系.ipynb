{
 "cells": [
  {
   "cell_type": "markdown",
   "metadata": {},
   "source": [
    "1.首先用线性模型跑了一遍，发现FGA，BLK，TOV，AST四个参数的权重大一些<br\\>\n",
    "2.然后用SVR模型，kernel用rbf，和RidgeCV配合可以提高预测准确数<br\\>\n",
    "3.下一步做一下组合模型\n",
    "- np.fabs()<br\\>\n",
    "- np.apply_along_axis()<br\\>\n",
    "- sklearn.model_selection.train_test_split()<br\\>\n",
    "- sklearn.model_selection.GridSearchCV()"
   ]
  },
  {
   "cell_type": "code",
   "execution_count": 26,
   "metadata": {},
   "outputs": [],
   "source": [
    "import pandas as pd\n",
    "import numpy as np\n",
    "from sklearn.preprocessing import StandardScaler\n",
    "from sklearn.linear_model import RidgeCV\n",
    "from sklearn import svm\n",
    "from sklearn.model_selection import GridSearchCV"
   ]
  },
  {
   "cell_type": "code",
   "execution_count": 3,
   "metadata": {},
   "outputs": [
    {
     "data": {
      "text/html": [
       "<div>\n",
       "<style>\n",
       "    .dataframe thead tr:only-child th {\n",
       "        text-align: right;\n",
       "    }\n",
       "\n",
       "    .dataframe thead th {\n",
       "        text-align: left;\n",
       "    }\n",
       "\n",
       "    .dataframe tbody tr th {\n",
       "        vertical-align: top;\n",
       "    }\n",
       "</style>\n",
       "<table border=\"1\" class=\"dataframe\">\n",
       "  <thead>\n",
       "    <tr style=\"text-align: right;\">\n",
       "      <th></th>\n",
       "      <th>SEASON_ID</th>\n",
       "      <th>TEAM_ID</th>\n",
       "      <th>TEAM_ABBREVIATION</th>\n",
       "      <th>TEAM_NAME</th>\n",
       "      <th>GAME_ID</th>\n",
       "      <th>GAME_DATE</th>\n",
       "      <th>MATCHUP</th>\n",
       "      <th>WL</th>\n",
       "      <th>MIN</th>\n",
       "      <th>FGM</th>\n",
       "      <th>...</th>\n",
       "      <th>DREB</th>\n",
       "      <th>REB</th>\n",
       "      <th>AST</th>\n",
       "      <th>STL</th>\n",
       "      <th>BLK</th>\n",
       "      <th>TOV</th>\n",
       "      <th>PF</th>\n",
       "      <th>PTS</th>\n",
       "      <th>PLUS_MINUS</th>\n",
       "      <th>VIDEO_AVAILABLE</th>\n",
       "    </tr>\n",
       "  </thead>\n",
       "  <tbody>\n",
       "    <tr>\n",
       "      <th>0</th>\n",
       "      <td>22016</td>\n",
       "      <td>1610612749</td>\n",
       "      <td>MIL</td>\n",
       "      <td>Milwaukee Bucks</td>\n",
       "      <td>21601219</td>\n",
       "      <td>2017-04-12</td>\n",
       "      <td>MIL @ BOS</td>\n",
       "      <td>L</td>\n",
       "      <td>240</td>\n",
       "      <td>37</td>\n",
       "      <td>...</td>\n",
       "      <td>34</td>\n",
       "      <td>43</td>\n",
       "      <td>26</td>\n",
       "      <td>6</td>\n",
       "      <td>9</td>\n",
       "      <td>17</td>\n",
       "      <td>20</td>\n",
       "      <td>94</td>\n",
       "      <td>-18</td>\n",
       "      <td>1</td>\n",
       "    </tr>\n",
       "    <tr>\n",
       "      <th>1</th>\n",
       "      <td>22016</td>\n",
       "      <td>1610612738</td>\n",
       "      <td>BOS</td>\n",
       "      <td>Boston Celtics</td>\n",
       "      <td>21601219</td>\n",
       "      <td>2017-04-12</td>\n",
       "      <td>BOS vs. MIL</td>\n",
       "      <td>W</td>\n",
       "      <td>240</td>\n",
       "      <td>41</td>\n",
       "      <td>...</td>\n",
       "      <td>35</td>\n",
       "      <td>45</td>\n",
       "      <td>31</td>\n",
       "      <td>12</td>\n",
       "      <td>3</td>\n",
       "      <td>8</td>\n",
       "      <td>17</td>\n",
       "      <td>112</td>\n",
       "      <td>18</td>\n",
       "      <td>1</td>\n",
       "    </tr>\n",
       "    <tr>\n",
       "      <th>2</th>\n",
       "      <td>22016</td>\n",
       "      <td>1610612757</td>\n",
       "      <td>POR</td>\n",
       "      <td>Portland Trail Blazers</td>\n",
       "      <td>21601230</td>\n",
       "      <td>2017-04-12</td>\n",
       "      <td>POR vs. NOP</td>\n",
       "      <td>L</td>\n",
       "      <td>240</td>\n",
       "      <td>41</td>\n",
       "      <td>...</td>\n",
       "      <td>39</td>\n",
       "      <td>53</td>\n",
       "      <td>22</td>\n",
       "      <td>4</td>\n",
       "      <td>2</td>\n",
       "      <td>25</td>\n",
       "      <td>18</td>\n",
       "      <td>100</td>\n",
       "      <td>-3</td>\n",
       "      <td>1</td>\n",
       "    </tr>\n",
       "    <tr>\n",
       "      <th>3</th>\n",
       "      <td>22016</td>\n",
       "      <td>1610612740</td>\n",
       "      <td>NOP</td>\n",
       "      <td>New Orleans Pelicans</td>\n",
       "      <td>21601230</td>\n",
       "      <td>2017-04-12</td>\n",
       "      <td>NOP @ POR</td>\n",
       "      <td>W</td>\n",
       "      <td>240</td>\n",
       "      <td>40</td>\n",
       "      <td>...</td>\n",
       "      <td>31</td>\n",
       "      <td>42</td>\n",
       "      <td>20</td>\n",
       "      <td>13</td>\n",
       "      <td>3</td>\n",
       "      <td>11</td>\n",
       "      <td>17</td>\n",
       "      <td>103</td>\n",
       "      <td>3</td>\n",
       "      <td>1</td>\n",
       "    </tr>\n",
       "    <tr>\n",
       "      <th>4</th>\n",
       "      <td>22016</td>\n",
       "      <td>1610612746</td>\n",
       "      <td>LAC</td>\n",
       "      <td>LA Clippers</td>\n",
       "      <td>21601228</td>\n",
       "      <td>2017-04-12</td>\n",
       "      <td>LAC vs. SAC</td>\n",
       "      <td>W</td>\n",
       "      <td>240</td>\n",
       "      <td>43</td>\n",
       "      <td>...</td>\n",
       "      <td>32</td>\n",
       "      <td>43</td>\n",
       "      <td>29</td>\n",
       "      <td>4</td>\n",
       "      <td>6</td>\n",
       "      <td>6</td>\n",
       "      <td>15</td>\n",
       "      <td>115</td>\n",
       "      <td>20</td>\n",
       "      <td>1</td>\n",
       "    </tr>\n",
       "  </tbody>\n",
       "</table>\n",
       "<p>5 rows × 29 columns</p>\n",
       "</div>"
      ],
      "text/plain": [
       "   SEASON_ID     TEAM_ID TEAM_ABBREVIATION               TEAM_NAME   GAME_ID  \\\n",
       "0      22016  1610612749               MIL         Milwaukee Bucks  21601219   \n",
       "1      22016  1610612738               BOS          Boston Celtics  21601219   \n",
       "2      22016  1610612757               POR  Portland Trail Blazers  21601230   \n",
       "3      22016  1610612740               NOP    New Orleans Pelicans  21601230   \n",
       "4      22016  1610612746               LAC             LA Clippers  21601228   \n",
       "\n",
       "    GAME_DATE      MATCHUP WL  MIN  FGM       ...         DREB  REB  AST  STL  \\\n",
       "0  2017-04-12    MIL @ BOS  L  240   37       ...           34   43   26    6   \n",
       "1  2017-04-12  BOS vs. MIL  W  240   41       ...           35   45   31   12   \n",
       "2  2017-04-12  POR vs. NOP  L  240   41       ...           39   53   22    4   \n",
       "3  2017-04-12    NOP @ POR  W  240   40       ...           31   42   20   13   \n",
       "4  2017-04-12  LAC vs. SAC  W  240   43       ...           32   43   29    4   \n",
       "\n",
       "   BLK  TOV  PF  PTS  PLUS_MINUS  VIDEO_AVAILABLE  \n",
       "0    9   17  20   94         -18                1  \n",
       "1    3    8  17  112          18                1  \n",
       "2    2   25  18  100          -3                1  \n",
       "3    3   11  17  103           3                1  \n",
       "4    6    6  15  115          20                1  \n",
       "\n",
       "[5 rows x 29 columns]"
      ]
     },
     "execution_count": 3,
     "metadata": {},
     "output_type": "execute_result"
    }
   ],
   "source": [
    "df = pd.read_excel(\"../数据收集/games.xlsx\")\n",
    "df.head()"
   ]
  },
  {
   "cell_type": "code",
   "execution_count": 4,
   "metadata": {},
   "outputs": [
    {
     "data": {
      "text/plain": [
       "Index(['SEASON_ID', 'TEAM_ID', 'TEAM_ABBREVIATION', 'TEAM_NAME', 'GAME_ID',\n",
       "       'GAME_DATE', 'MATCHUP', 'WL', 'MIN', 'FGM', 'FGA', 'FG_PCT', 'FG3M',\n",
       "       'FG3A', 'FG3_PCT', 'FTM', 'FTA', 'FT_PCT', 'OREB', 'DREB', 'REB', 'AST',\n",
       "       'STL', 'BLK', 'TOV', 'PF', 'PTS', 'PLUS_MINUS', 'VIDEO_AVAILABLE'],\n",
       "      dtype='object')"
      ]
     },
     "execution_count": 4,
     "metadata": {},
     "output_type": "execute_result"
    }
   ],
   "source": [
    "df.columns"
   ]
  },
  {
   "cell_type": "code",
   "execution_count": 35,
   "metadata": {},
   "outputs": [
    {
     "name": "stdout",
     "output_type": "stream",
     "text": [
      "平均误差 2.76484336698 \n",
      "正确个数 59\n"
     ]
    },
    {
     "name": "stderr",
     "output_type": "stream",
     "text": [
      "d:\\programfiles\\pyhton361\\lib\\site-packages\\sklearn\\utils\\validation.py:444: DataConversionWarning: Data with input dtype int64 was converted to float64 by StandardScaler.\n",
      "  warnings.warn(msg, DataConversionWarning)\n"
     ]
    }
   ],
   "source": [
    "y = df['FGM'].get_values()\n",
    "x = df[['FGA','BLK','TOV','AST']].get_values()\n",
    "train_num = round(0.8*len(y))\n",
    "x_scaler = StandardScaler().fit(x[:train_num]).transform(x)\n",
    "#可以用sklearn.model_selection.train_test_split()完成训练集-测试集分离的过程\n",
    "train_x,test_x = x_scaler[:train_num],x_scaler[train_num:]\n",
    "train_y,test_y = y[:train_num],y[train_num:]\n",
    "reg = RidgeCV([0.1,1,10]).fit(train_x,train_y)\n",
    "#误差\n",
    "err_ridge = reg.predict(test_x)-test_y\n",
    "err_ridge_mean = np.fabs(err_ridge).mean()\n",
    "correct_ridge = np.apply_along_axis(lambda x:[i for i,v in enumerate(x) if np.fabs(v)<0.5],0,err_ridge)\n",
    "print('平均误差',err_ridge_mean,'\\n正确个数',len(correct_ridge))"
   ]
  },
  {
   "cell_type": "code",
   "execution_count": 45,
   "metadata": {},
   "outputs": [
    {
     "name": "stdout",
     "output_type": "stream",
     "text": [
      "平均误差 2.89510124798 \n",
      "正确个数 59\n"
     ]
    }
   ],
   "source": [
    "svr = svm.SVR()\n",
    "clf = GridSearchCV(svr,{'C':[0.1,1,10]})\n",
    "clf.fit(train_x,train_y)\n",
    "err_svr = clf.predict(test_x)-test_y\n",
    "err_svr_mean = np.fabs(err_svr).mean()\n",
    "correct_svr = np.apply_along_axis(lambda x:[i for i,v in enumerate(x) if np.fabs(v)<0.5],0,err_svr)\n",
    "print('平均误差',err_svr_mean,'\\n正确个数',len(correct_svr))"
   ]
  },
  {
   "cell_type": "code",
   "execution_count": 46,
   "metadata": {},
   "outputs": [
    {
     "data": {
      "text/plain": [
       "{'C': 1}"
      ]
     },
     "execution_count": 46,
     "metadata": {},
     "output_type": "execute_result"
    }
   ],
   "source": [
    "clf.best_params_"
   ]
  },
  {
   "cell_type": "code",
   "execution_count": 51,
   "metadata": {},
   "outputs": [
    {
     "data": {
      "text/plain": [
       "87"
      ]
     },
     "execution_count": 51,
     "metadata": {},
     "output_type": "execute_result"
    }
   ],
   "source": [
    "len(set(np.concatenate([correct_svr,correct_ridge])))"
   ]
  },
  {
   "cell_type": "code",
   "execution_count": 48,
   "metadata": {},
   "outputs": [
    {
     "data": {
      "text/plain": [
       "array([  0,   5,   8,  15,  16,  19,  26,  30,  32,  41,  43,  44,  58,\n",
       "        70,  80,  84,  92, 108, 124, 126, 146, 153, 161, 162, 164, 166,\n",
       "       167, 181, 200, 215, 219, 238, 250, 269, 270, 283, 293, 297, 305,\n",
       "       322, 332, 368, 370, 374, 376, 386, 391, 419, 427, 430, 434, 439,\n",
       "       445, 466, 469, 473, 474, 487, 491])"
      ]
     },
     "execution_count": 48,
     "metadata": {},
     "output_type": "execute_result"
    }
   ],
   "source": [
    "correct_ridge"
   ]
  }
 ],
 "metadata": {
  "kernelspec": {
   "display_name": "Python 3",
   "language": "python",
   "name": "python3"
  },
  "language_info": {
   "codemirror_mode": {
    "name": "ipython",
    "version": 3
   },
   "file_extension": ".py",
   "mimetype": "text/x-python",
   "name": "python",
   "nbconvert_exporter": "python",
   "pygments_lexer": "ipython3",
   "version": "3.6.1"
  }
 },
 "nbformat": 4,
 "nbformat_minor": 2
}
