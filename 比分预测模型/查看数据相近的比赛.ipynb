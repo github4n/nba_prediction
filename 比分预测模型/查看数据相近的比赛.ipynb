{
 "cells": [
  {
   "cell_type": "markdown",
   "metadata": {},
   "source": []
  },
  {
   "cell_type": "code",
   "execution_count": 2,
   "metadata": {},
   "outputs": [],
   "source": [
    "import pandas as pd\n",
    "import numpy as np"
   ]
  },
  {
   "cell_type": "code",
   "execution_count": 3,
   "metadata": {},
   "outputs": [
    {
     "data": {
      "text/plain": [
       "Index(['AST', 'BLK', 'BLKA', 'DREB', 'FG3A', 'FG3M', 'FGA', 'FGM', 'FTA',\n",
       "       'FTM', 'OREB', 'PF', 'PFD', 'PTS', 'PTS_2ND_CHANCE', 'PTS_FB',\n",
       "       'PTS_OFF_TOV', 'PTS_PAINT', 'REB', 'STL', 'TOV', 'OPP_AST', 'OPP_BLK',\n",
       "       'OPP_BLKA', 'OPP_DREB', 'OPP_FG3A', 'OPP_FG3M', 'OPP_FGA', 'OPP_FGM',\n",
       "       'OPP_FTA', 'OPP_FTM', 'OPP_OREB', 'OPP_PF', 'OPP_PFD', 'OPP_PTS',\n",
       "       'OPP_PTS_2ND_CHANCE', 'OPP_PTS_FB', 'OPP_PTS_OFF_TOV', 'OPP_PTS_PAINT',\n",
       "       'OPP_REB', 'OPP_STL', 'OPP_TOV'],\n",
       "      dtype='object')"
      ]
     },
     "execution_count": 3,
     "metadata": {},
     "output_type": "execute_result"
    }
   ],
   "source": [
    "df = pd.read_excel('../数据清洗整理/features.xlsx')\n",
    "df.columns"
   ]
  },
  {
   "cell_type": "code",
   "execution_count": 4,
   "metadata": {},
   "outputs": [
    {
     "name": "stdout",
     "output_type": "stream",
     "text": [
      "0\n",
      "50\n",
      "100\n",
      "150\n",
      "200\n",
      "250\n",
      "300\n",
      "350\n",
      "400\n",
      "450\n",
      "500\n",
      "550\n",
      "600\n",
      "650\n",
      "700\n",
      "750\n",
      "800\n",
      "850\n",
      "900\n",
      "950\n",
      "1000\n",
      "1050\n",
      "1100\n",
      "1150\n",
      "1200\n",
      "1250\n",
      "1300\n",
      "1350\n",
      "1400\n",
      "1450\n",
      "1500\n",
      "1550\n",
      "1600\n",
      "1650\n",
      "1700\n",
      "1750\n",
      "1800\n",
      "1850\n",
      "1900\n",
      "1950\n",
      "2000\n",
      "2050\n",
      "2100\n",
      "2150\n",
      "2200\n",
      "2250\n",
      "2300\n",
      "2350\n",
      "2400\n",
      "2450\n"
     ]
    }
   ],
   "source": [
    "games = df.index\n",
    "length = len(df.index)\n",
    "def find_similar_games(start,features,criteria):\n",
    "    result=[]\n",
    "    is_similar = True\n",
    "    for num in range(start+1,length):\n",
    "        d = df.iloc[num]\n",
    "        for i,feature in enumerate(features):\n",
    "            if np.fabs(d[feature]-df.iloc[start][feature])>criteria[i]:\n",
    "                is_similar = False\n",
    "                break\n",
    "        if is_similar and num-start>1:\n",
    "            result.append(num)\n",
    "    return result\n",
    "                \n",
    "similar_games = []\n",
    "for i in range(0,length):\n",
    "    similar_games.append(find_similar_games(i,['PTS','OPP_PTS'],[3,3]))\n",
    "    if i%50==0:\n",
    "        print(i)"
   ]
  },
  {
   "cell_type": "code",
   "execution_count": 6,
   "metadata": {},
   "outputs": [
    {
     "data": {
      "text/plain": [
       "[[(958, 960), (958, 961)],\n",
       " [(959, 961)],\n",
       " [(1404, 1406)],\n",
       " [(1504, 1506)],\n",
       " [(1784, 1786)],\n",
       " [(2198, 2200), (2198, 2201)],\n",
       " [(2199, 2201)],\n",
       " [(2330, 2332)]]"
      ]
     },
     "execution_count": 6,
     "metadata": {},
     "output_type": "execute_result"
    }
   ],
   "source": [
    "test = [[(i,r)for r in res] for i,res in enumerate(similar_games) if res]\n",
    "test"
   ]
  },
  {
   "cell_type": "code",
   "execution_count": 11,
   "metadata": {},
   "outputs": [
    {
     "data": {
      "text/html": [
       "<div>\n",
       "<style>\n",
       "    .dataframe thead tr:only-child th {\n",
       "        text-align: right;\n",
       "    }\n",
       "\n",
       "    .dataframe thead th {\n",
       "        text-align: left;\n",
       "    }\n",
       "\n",
       "    .dataframe tbody tr th {\n",
       "        vertical-align: top;\n",
       "    }\n",
       "</style>\n",
       "<table border=\"1\" class=\"dataframe\">\n",
       "  <thead>\n",
       "    <tr style=\"text-align: right;\">\n",
       "      <th></th>\n",
       "      <th>AST</th>\n",
       "      <th>BLK</th>\n",
       "      <th>BLKA</th>\n",
       "      <th>DREB</th>\n",
       "      <th>FG3A</th>\n",
       "      <th>FG3M</th>\n",
       "      <th>FGA</th>\n",
       "      <th>FGM</th>\n",
       "      <th>FTA</th>\n",
       "      <th>FTM</th>\n",
       "      <th>...</th>\n",
       "      <th>OPP_PF</th>\n",
       "      <th>OPP_PFD</th>\n",
       "      <th>OPP_PTS</th>\n",
       "      <th>OPP_PTS_2ND_CHANCE</th>\n",
       "      <th>OPP_PTS_FB</th>\n",
       "      <th>OPP_PTS_OFF_TOV</th>\n",
       "      <th>OPP_PTS_PAINT</th>\n",
       "      <th>OPP_REB</th>\n",
       "      <th>OPP_STL</th>\n",
       "      <th>OPP_TOV</th>\n",
       "    </tr>\n",
       "  </thead>\n",
       "  <tbody>\n",
       "    <tr>\n",
       "      <th>21600703</th>\n",
       "      <td>24</td>\n",
       "      <td>5</td>\n",
       "      <td>3</td>\n",
       "      <td>32</td>\n",
       "      <td>26</td>\n",
       "      <td>9</td>\n",
       "      <td>77</td>\n",
       "      <td>37</td>\n",
       "      <td>33</td>\n",
       "      <td>26</td>\n",
       "      <td>...</td>\n",
       "      <td>26</td>\n",
       "      <td>19</td>\n",
       "      <td>112</td>\n",
       "      <td>13</td>\n",
       "      <td>3</td>\n",
       "      <td>16</td>\n",
       "      <td>28</td>\n",
       "      <td>33</td>\n",
       "      <td>2</td>\n",
       "      <td>12</td>\n",
       "    </tr>\n",
       "    <tr>\n",
       "      <th>21600704</th>\n",
       "      <td>24</td>\n",
       "      <td>7</td>\n",
       "      <td>5</td>\n",
       "      <td>27</td>\n",
       "      <td>37</td>\n",
       "      <td>12</td>\n",
       "      <td>75</td>\n",
       "      <td>36</td>\n",
       "      <td>24</td>\n",
       "      <td>22</td>\n",
       "      <td>...</td>\n",
       "      <td>23</td>\n",
       "      <td>25</td>\n",
       "      <td>109</td>\n",
       "      <td>15</td>\n",
       "      <td>10</td>\n",
       "      <td>14</td>\n",
       "      <td>48</td>\n",
       "      <td>38</td>\n",
       "      <td>6</td>\n",
       "      <td>10</td>\n",
       "    </tr>\n",
       "  </tbody>\n",
       "</table>\n",
       "<p>2 rows × 42 columns</p>\n",
       "</div>"
      ],
      "text/plain": [
       "          AST  BLK  BLKA  DREB  FG3A  FG3M  FGA  FGM  FTA  FTM   ...     \\\n",
       "21600703   24    5     3    32    26     9   77   37   33   26   ...      \n",
       "21600704   24    7     5    27    37    12   75   36   24   22   ...      \n",
       "\n",
       "          OPP_PF  OPP_PFD  OPP_PTS  OPP_PTS_2ND_CHANCE  OPP_PTS_FB  \\\n",
       "21600703      26       19      112                  13           3   \n",
       "21600704      23       25      109                  15          10   \n",
       "\n",
       "          OPP_PTS_OFF_TOV  OPP_PTS_PAINT  OPP_REB  OPP_STL  OPP_TOV  \n",
       "21600703               16             28       33        2       12  \n",
       "21600704               14             48       38        6       10  \n",
       "\n",
       "[2 rows x 42 columns]"
      ]
     },
     "execution_count": 11,
     "metadata": {},
     "output_type": "execute_result"
    }
   ],
   "source": [
    "df.iloc[[1404,1406]]"
   ]
  }
 ],
 "metadata": {
  "kernelspec": {
   "display_name": "Python 3",
   "language": "python",
   "name": "python3"
  },
  "language_info": {
   "codemirror_mode": {
    "name": "ipython",
    "version": 3
   },
   "file_extension": ".py",
   "mimetype": "text/x-python",
   "name": "python",
   "nbconvert_exporter": "python",
   "pygments_lexer": "ipython3",
   "version": "3.6.1"
  }
 },
 "nbformat": 4,
 "nbformat_minor": 2
}
