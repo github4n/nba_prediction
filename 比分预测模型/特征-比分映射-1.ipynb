{
 "cells": [
  {
   "cell_type": "code",
   "execution_count": 1,
   "metadata": {},
   "outputs": [],
   "source": [
    "import pandas as pd\n",
    "import numpy as np\n",
    "from sklearn.preprocessing import StandardScaler\n",
    "from sklearn.linear_model import LinearRegression"
   ]
  },
  {
   "cell_type": "markdown",
   "metadata": {},
   "source": [
    "- 结果有点吃惊，最简单的线性回归即可完美建立各个参数到比分的映射 <br\\>\n",
    "- 接下来的就是选择尽可能少的、容易预测的参数，然后预测这些参数<br\\>\n",
    "- 返回到之前的步骤，可以简化特征构造时的做法，直接不选取对手的数据构造OPP_类特征"
   ]
  },
  {
   "cell_type": "code",
   "execution_count": 2,
   "metadata": {},
   "outputs": [
    {
     "data": {
      "text/html": [
       "<div>\n",
       "<style>\n",
       "    .dataframe thead tr:only-child th {\n",
       "        text-align: right;\n",
       "    }\n",
       "\n",
       "    .dataframe thead th {\n",
       "        text-align: left;\n",
       "    }\n",
       "\n",
       "    .dataframe tbody tr th {\n",
       "        vertical-align: top;\n",
       "    }\n",
       "</style>\n",
       "<table border=\"1\" class=\"dataframe\">\n",
       "  <thead>\n",
       "    <tr style=\"text-align: right;\">\n",
       "      <th></th>\n",
       "      <th>AST</th>\n",
       "      <th>BLK</th>\n",
       "      <th>BLKA</th>\n",
       "      <th>DREB</th>\n",
       "      <th>FG3A</th>\n",
       "      <th>FG3M</th>\n",
       "      <th>FGA</th>\n",
       "      <th>FGM</th>\n",
       "      <th>FTA</th>\n",
       "      <th>FTM</th>\n",
       "      <th>...</th>\n",
       "      <th>OPP_PF</th>\n",
       "      <th>OPP_PFD</th>\n",
       "      <th>OPP_PTS</th>\n",
       "      <th>OPP_PTS_2ND_CHANCE</th>\n",
       "      <th>OPP_PTS_FB</th>\n",
       "      <th>OPP_PTS_OFF_TOV</th>\n",
       "      <th>OPP_PTS_PAINT</th>\n",
       "      <th>OPP_REB</th>\n",
       "      <th>OPP_STL</th>\n",
       "      <th>OPP_TOV</th>\n",
       "    </tr>\n",
       "  </thead>\n",
       "  <tbody>\n",
       "    <tr>\n",
       "      <th>21600001</th>\n",
       "      <td>31</td>\n",
       "      <td>5</td>\n",
       "      <td>6</td>\n",
       "      <td>40</td>\n",
       "      <td>35</td>\n",
       "      <td>13</td>\n",
       "      <td>94</td>\n",
       "      <td>45</td>\n",
       "      <td>19</td>\n",
       "      <td>14</td>\n",
       "      <td>...</td>\n",
       "      <td>22</td>\n",
       "      <td>22</td>\n",
       "      <td>88</td>\n",
       "      <td>16</td>\n",
       "      <td>9</td>\n",
       "      <td>14</td>\n",
       "      <td>28</td>\n",
       "      <td>42</td>\n",
       "      <td>6</td>\n",
       "      <td>18</td>\n",
       "    </tr>\n",
       "    <tr>\n",
       "      <th>21600001</th>\n",
       "      <td>17</td>\n",
       "      <td>6</td>\n",
       "      <td>5</td>\n",
       "      <td>29</td>\n",
       "      <td>27</td>\n",
       "      <td>9</td>\n",
       "      <td>87</td>\n",
       "      <td>32</td>\n",
       "      <td>20</td>\n",
       "      <td>15</td>\n",
       "      <td>...</td>\n",
       "      <td>22</td>\n",
       "      <td>22</td>\n",
       "      <td>117</td>\n",
       "      <td>16</td>\n",
       "      <td>16</td>\n",
       "      <td>21</td>\n",
       "      <td>52</td>\n",
       "      <td>51</td>\n",
       "      <td>12</td>\n",
       "      <td>15</td>\n",
       "    </tr>\n",
       "    <tr>\n",
       "      <th>21600002</th>\n",
       "      <td>22</td>\n",
       "      <td>3</td>\n",
       "      <td>5</td>\n",
       "      <td>29</td>\n",
       "      <td>19</td>\n",
       "      <td>13</td>\n",
       "      <td>75</td>\n",
       "      <td>39</td>\n",
       "      <td>22</td>\n",
       "      <td>22</td>\n",
       "      <td>...</td>\n",
       "      <td>19</td>\n",
       "      <td>18</td>\n",
       "      <td>104</td>\n",
       "      <td>4</td>\n",
       "      <td>8</td>\n",
       "      <td>8</td>\n",
       "      <td>50</td>\n",
       "      <td>31</td>\n",
       "      <td>9</td>\n",
       "      <td>14</td>\n",
       "    </tr>\n",
       "    <tr>\n",
       "      <th>21600002</th>\n",
       "      <td>19</td>\n",
       "      <td>5</td>\n",
       "      <td>3</td>\n",
       "      <td>25</td>\n",
       "      <td>24</td>\n",
       "      <td>8</td>\n",
       "      <td>82</td>\n",
       "      <td>40</td>\n",
       "      <td>16</td>\n",
       "      <td>16</td>\n",
       "      <td>...</td>\n",
       "      <td>18</td>\n",
       "      <td>19</td>\n",
       "      <td>113</td>\n",
       "      <td>15</td>\n",
       "      <td>4</td>\n",
       "      <td>20</td>\n",
       "      <td>34</td>\n",
       "      <td>34</td>\n",
       "      <td>5</td>\n",
       "      <td>13</td>\n",
       "    </tr>\n",
       "    <tr>\n",
       "      <th>21600003</th>\n",
       "      <td>24</td>\n",
       "      <td>6</td>\n",
       "      <td>3</td>\n",
       "      <td>27</td>\n",
       "      <td>33</td>\n",
       "      <td>7</td>\n",
       "      <td>85</td>\n",
       "      <td>40</td>\n",
       "      <td>18</td>\n",
       "      <td>13</td>\n",
       "      <td>...</td>\n",
       "      <td>19</td>\n",
       "      <td>19</td>\n",
       "      <td>129</td>\n",
       "      <td>26</td>\n",
       "      <td>24</td>\n",
       "      <td>17</td>\n",
       "      <td>50</td>\n",
       "      <td>55</td>\n",
       "      <td>13</td>\n",
       "      <td>14</td>\n",
       "    </tr>\n",
       "  </tbody>\n",
       "</table>\n",
       "<p>5 rows × 42 columns</p>\n",
       "</div>"
      ],
      "text/plain": [
       "          AST  BLK  BLKA  DREB  FG3A  FG3M  FGA  FGM  FTA  FTM   ...     \\\n",
       "21600001   31    5     6    40    35    13   94   45   19   14   ...      \n",
       "21600001   17    6     5    29    27     9   87   32   20   15   ...      \n",
       "21600002   22    3     5    29    19    13   75   39   22   22   ...      \n",
       "21600002   19    5     3    25    24     8   82   40   16   16   ...      \n",
       "21600003   24    6     3    27    33     7   85   40   18   13   ...      \n",
       "\n",
       "          OPP_PF  OPP_PFD  OPP_PTS  OPP_PTS_2ND_CHANCE  OPP_PTS_FB  \\\n",
       "21600001      22       22       88                  16           9   \n",
       "21600001      22       22      117                  16          16   \n",
       "21600002      19       18      104                   4           8   \n",
       "21600002      18       19      113                  15           4   \n",
       "21600003      19       19      129                  26          24   \n",
       "\n",
       "          OPP_PTS_OFF_TOV  OPP_PTS_PAINT  OPP_REB  OPP_STL  OPP_TOV  \n",
       "21600001               14             28       42        6       18  \n",
       "21600001               21             52       51       12       15  \n",
       "21600002                8             50       31        9       14  \n",
       "21600002               20             34       34        5       13  \n",
       "21600003               17             50       55       13       14  \n",
       "\n",
       "[5 rows x 42 columns]"
      ]
     },
     "execution_count": 2,
     "metadata": {},
     "output_type": "execute_result"
    }
   ],
   "source": [
    "df = pd.read_excel('../数据清洗整理/features.xlsx')\n",
    "df.head()"
   ]
  },
  {
   "cell_type": "code",
   "execution_count": 3,
   "metadata": {},
   "outputs": [
    {
     "name": "stderr",
     "output_type": "stream",
     "text": [
      "d:\\program_files\\python36\\lib\\site-packages\\sklearn\\utils\\validation.py:444: DataConversionWarning: Data with input dtype int64 was converted to float64 by StandardScaler.\n",
      "  warnings.warn(msg, DataConversionWarning)\n"
     ]
    }
   ],
   "source": [
    "#训练集占80%\n",
    "train_num = round(0.8*df.shape[0])\n",
    "x_array = df[[col for col in df.columns if col != \"PTS\" and \"OPP\" not in col]].get_values()\n",
    "y_array = df['PTS'].get_values()\n",
    "\n",
    "#划分训练集合测试集\n",
    "x_train = x_array[:train_num]\n",
    "y_train = y_array[:train_num]\n",
    "\n",
    "x_test = x_array[train_num:]\n",
    "y_test = y_array[train_num:]\n",
    "\n",
    "#属性标准化\n",
    "scaler = StandardScaler().fit(x_train)\n",
    "x_train = scaler.transform(x_train)\n",
    "x_test = scaler.transform(x_test)"
   ]
  },
  {
   "cell_type": "code",
   "execution_count": 4,
   "metadata": {},
   "outputs": [
    {
     "data": {
      "text/plain": [
       "array([  2.84489275e-14,  -3.55271368e-15,  -3.55271368e-15,\n",
       "         3.99680289e-15,  -8.88178420e-16,   3.46908259e+00,\n",
       "        -5.77315973e-15,   9.91812102e+00,  -6.49480469e-15,\n",
       "         6.09155596e+00,   2.22044605e-16,   3.33066907e-15,\n",
       "         2.22044605e-15,   8.77076189e-15,   4.44089210e-15,\n",
       "         2.66453526e-15,  -9.32587341e-15,   1.38777878e-15,\n",
       "         6.66133815e-16,  -8.24340596e-15])"
      ]
     },
     "execution_count": 4,
     "metadata": {},
     "output_type": "execute_result"
    }
   ],
   "source": [
    "reg = LinearRegression()\n",
    "reg.fit(x_train,y_train)\n",
    "reg.coef_ #从权重中也可以看出，最后只有三个参数起作用"
   ]
  },
  {
   "cell_type": "code",
   "execution_count": 5,
   "metadata": {},
   "outputs": [
    {
     "data": {
      "text/plain": [
       "array([  0.00000000e+00,  -1.42108547e-14,   2.84217094e-14,\n",
       "         1.42108547e-14,  -4.26325641e-14,  -1.42108547e-14,\n",
       "        -1.42108547e-14,  -4.26325641e-14,   0.00000000e+00,\n",
       "         2.84217094e-14,  -2.84217094e-14,   1.42108547e-14,\n",
       "         1.42108547e-14,   5.68434189e-14,   0.00000000e+00,\n",
       "         0.00000000e+00,   8.52651283e-14,   2.84217094e-14,\n",
       "         1.42108547e-14,   5.68434189e-14])"
      ]
     },
     "execution_count": 5,
     "metadata": {},
     "output_type": "execute_result"
    }
   ],
   "source": [
    "y_predict = reg.predict(x_test)\n",
    "y_predict[:20]-y_test[:20]"
   ]
  }
 ],
 "metadata": {
  "kernelspec": {
   "display_name": "Python 3",
   "language": "python",
   "name": "python3"
  },
  "language_info": {
   "codemirror_mode": {
    "name": "ipython",
    "version": 3
   },
   "file_extension": ".py",
   "mimetype": "text/x-python",
   "name": "python",
   "nbconvert_exporter": "python",
   "pygments_lexer": "ipython3",
   "version": "3.6.1"
  }
 },
 "nbformat": 4,
 "nbformat_minor": 2
}
