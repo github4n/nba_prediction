{
 "cells": [
  {
   "cell_type": "code",
   "execution_count": 16,
   "metadata": {},
   "outputs": [],
   "source": [
    "import pandas as pd\n",
    "import numpy as np\n",
    "from sklearn.neighbors import KNeighborsClassifier\n",
    "from sklearn.svm import SVR,SVC\n",
    "from sklearn.linear_model import LogisticRegressionCV,LogisticRegression\n",
    "from sklearn.tree import DecisionTreeClassifier\n",
    "from sklearn.ensemble import AdaBoostClassifier,BaggingClassifier,RandomForestClassifier\n",
    "from sklearn.model_selection import GridSearchCV\n",
    "from sklearn.preprocessing import StandardScaler\n",
    "from sklearn.preprocessing import Binarizer"
   ]
  },
  {
   "cell_type": "code",
   "execution_count": 7,
   "metadata": {},
   "outputs": [
    {
     "data": {
      "text/html": [
       "<div>\n",
       "<style scoped>\n",
       "    .dataframe tbody tr th:only-of-type {\n",
       "        vertical-align: middle;\n",
       "    }\n",
       "\n",
       "    .dataframe tbody tr th {\n",
       "        vertical-align: top;\n",
       "    }\n",
       "\n",
       "    .dataframe thead th {\n",
       "        text-align: right;\n",
       "    }\n",
       "</style>\n",
       "<table border=\"1\" class=\"dataframe\">\n",
       "  <thead>\n",
       "    <tr style=\"text-align: right;\">\n",
       "      <th></th>\n",
       "      <th>GAME_ID</th>\n",
       "      <th>PCT_UAST_3PM</th>\n",
       "      <th>AST</th>\n",
       "      <th>PCT_AST_FGM</th>\n",
       "      <th>FG3M</th>\n",
       "      <th>DREB</th>\n",
       "      <th>FGM</th>\n",
       "      <th>PFD</th>\n",
       "      <th>PCT_PTS_3PT</th>\n",
       "      <th>PTS_2ND_CHANCE</th>\n",
       "      <th>...</th>\n",
       "      <th>AST_TO_CHANGE_OPP</th>\n",
       "      <th>REB_PCT_CHANGE_OPP</th>\n",
       "      <th>PTS_PAINT_CHANGE_OPP</th>\n",
       "      <th>FTA_CHANGE_OPP</th>\n",
       "      <th>PACE_CHANGE_OPP</th>\n",
       "      <th>BLKA_CHANGE_OPP</th>\n",
       "      <th>BLK_CHANGE_OPP</th>\n",
       "      <th>PCT_PTS_PAINT_CHANGE_OPP</th>\n",
       "      <th>PCT_FGA_3PT_CHANGE_OPP</th>\n",
       "      <th>PCT_PTS_2PT_MR_CHANGE_OPP</th>\n",
       "    </tr>\n",
       "  </thead>\n",
       "  <tbody>\n",
       "    <tr>\n",
       "      <th>0</th>\n",
       "      <td>21600075</td>\n",
       "      <td>0.0236</td>\n",
       "      <td>5.2</td>\n",
       "      <td>0.0356</td>\n",
       "      <td>3.6</td>\n",
       "      <td>2.2</td>\n",
       "      <td>6.4</td>\n",
       "      <td>5.8</td>\n",
       "      <td>0.0682</td>\n",
       "      <td>-1.2</td>\n",
       "      <td>...</td>\n",
       "      <td>0.676</td>\n",
       "      <td>0.0028</td>\n",
       "      <td>0.0</td>\n",
       "      <td>-4.2</td>\n",
       "      <td>1.102</td>\n",
       "      <td>0.2</td>\n",
       "      <td>2.2</td>\n",
       "      <td>-0.0432</td>\n",
       "      <td>0.1124</td>\n",
       "      <td>-0.0104</td>\n",
       "    </tr>\n",
       "    <tr>\n",
       "      <th>1</th>\n",
       "      <td>21600075</td>\n",
       "      <td>-0.0700</td>\n",
       "      <td>0.4</td>\n",
       "      <td>-0.0122</td>\n",
       "      <td>2.6</td>\n",
       "      <td>9.8</td>\n",
       "      <td>1.2</td>\n",
       "      <td>-1.6</td>\n",
       "      <td>0.0572</td>\n",
       "      <td>5.8</td>\n",
       "      <td>...</td>\n",
       "      <td>-0.582</td>\n",
       "      <td>0.0602</td>\n",
       "      <td>2.8</td>\n",
       "      <td>-2.0</td>\n",
       "      <td>0.826</td>\n",
       "      <td>0.4</td>\n",
       "      <td>-0.8</td>\n",
       "      <td>-0.0114</td>\n",
       "      <td>0.0194</td>\n",
       "      <td>-0.0030</td>\n",
       "    </tr>\n",
       "    <tr>\n",
       "      <th>2</th>\n",
       "      <td>21600077</td>\n",
       "      <td>-0.1200</td>\n",
       "      <td>-4.6</td>\n",
       "      <td>-0.1186</td>\n",
       "      <td>-2.8</td>\n",
       "      <td>6.2</td>\n",
       "      <td>-0.6</td>\n",
       "      <td>-1.6</td>\n",
       "      <td>-0.0684</td>\n",
       "      <td>6.8</td>\n",
       "      <td>...</td>\n",
       "      <td>0.000</td>\n",
       "      <td>-0.0126</td>\n",
       "      <td>6.0</td>\n",
       "      <td>8.4</td>\n",
       "      <td>8.704</td>\n",
       "      <td>-0.8</td>\n",
       "      <td>-0.4</td>\n",
       "      <td>0.0402</td>\n",
       "      <td>-0.0408</td>\n",
       "      <td>0.0062</td>\n",
       "    </tr>\n",
       "    <tr>\n",
       "      <th>3</th>\n",
       "      <td>21600077</td>\n",
       "      <td>0.2154</td>\n",
       "      <td>-3.2</td>\n",
       "      <td>-0.0282</td>\n",
       "      <td>1.4</td>\n",
       "      <td>-0.2</td>\n",
       "      <td>-4.6</td>\n",
       "      <td>5.8</td>\n",
       "      <td>0.0850</td>\n",
       "      <td>-2.0</td>\n",
       "      <td>...</td>\n",
       "      <td>0.480</td>\n",
       "      <td>-0.0696</td>\n",
       "      <td>5.2</td>\n",
       "      <td>-0.6</td>\n",
       "      <td>3.388</td>\n",
       "      <td>-0.2</td>\n",
       "      <td>-0.2</td>\n",
       "      <td>0.0620</td>\n",
       "      <td>0.0136</td>\n",
       "      <td>-0.0142</td>\n",
       "    </tr>\n",
       "    <tr>\n",
       "      <th>4</th>\n",
       "      <td>21600078</td>\n",
       "      <td>0.0414</td>\n",
       "      <td>-3.2</td>\n",
       "      <td>-0.0140</td>\n",
       "      <td>-4.6</td>\n",
       "      <td>-3.4</td>\n",
       "      <td>-4.0</td>\n",
       "      <td>-2.2</td>\n",
       "      <td>-0.0924</td>\n",
       "      <td>5.8</td>\n",
       "      <td>...</td>\n",
       "      <td>0.704</td>\n",
       "      <td>-0.0364</td>\n",
       "      <td>-2.4</td>\n",
       "      <td>2.2</td>\n",
       "      <td>-2.772</td>\n",
       "      <td>-0.4</td>\n",
       "      <td>2.6</td>\n",
       "      <td>0.0084</td>\n",
       "      <td>-0.0124</td>\n",
       "      <td>0.0040</td>\n",
       "    </tr>\n",
       "  </tbody>\n",
       "</table>\n",
       "<p>5 rows × 111 columns</p>\n",
       "</div>"
      ],
      "text/plain": [
       "    GAME_ID  PCT_UAST_3PM  AST  PCT_AST_FGM  FG3M  DREB  FGM  PFD  \\\n",
       "0  21600075        0.0236  5.2       0.0356   3.6   2.2  6.4  5.8   \n",
       "1  21600075       -0.0700  0.4      -0.0122   2.6   9.8  1.2 -1.6   \n",
       "2  21600077       -0.1200 -4.6      -0.1186  -2.8   6.2 -0.6 -1.6   \n",
       "3  21600077        0.2154 -3.2      -0.0282   1.4  -0.2 -4.6  5.8   \n",
       "4  21600078        0.0414 -3.2      -0.0140  -4.6  -3.4 -4.0 -2.2   \n",
       "\n",
       "   PCT_PTS_3PT  PTS_2ND_CHANCE            ...              AST_TO_CHANGE_OPP  \\\n",
       "0       0.0682            -1.2            ...                          0.676   \n",
       "1       0.0572             5.8            ...                         -0.582   \n",
       "2      -0.0684             6.8            ...                          0.000   \n",
       "3       0.0850            -2.0            ...                          0.480   \n",
       "4      -0.0924             5.8            ...                          0.704   \n",
       "\n",
       "   REB_PCT_CHANGE_OPP  PTS_PAINT_CHANGE_OPP  FTA_CHANGE_OPP  PACE_CHANGE_OPP  \\\n",
       "0              0.0028                   0.0            -4.2            1.102   \n",
       "1              0.0602                   2.8            -2.0            0.826   \n",
       "2             -0.0126                   6.0             8.4            8.704   \n",
       "3             -0.0696                   5.2            -0.6            3.388   \n",
       "4             -0.0364                  -2.4             2.2           -2.772   \n",
       "\n",
       "   BLKA_CHANGE_OPP  BLK_CHANGE_OPP  PCT_PTS_PAINT_CHANGE_OPP  \\\n",
       "0              0.2             2.2                   -0.0432   \n",
       "1              0.4            -0.8                   -0.0114   \n",
       "2             -0.8            -0.4                    0.0402   \n",
       "3             -0.2            -0.2                    0.0620   \n",
       "4             -0.4             2.6                    0.0084   \n",
       "\n",
       "   PCT_FGA_3PT_CHANGE_OPP  PCT_PTS_2PT_MR_CHANGE_OPP  \n",
       "0                  0.1124                    -0.0104  \n",
       "1                  0.0194                    -0.0030  \n",
       "2                 -0.0408                     0.0062  \n",
       "3                  0.0136                    -0.0142  \n",
       "4                 -0.0124                     0.0040  \n",
       "\n",
       "[5 rows x 111 columns]"
      ]
     },
     "execution_count": 7,
     "metadata": {},
     "output_type": "execute_result"
    }
   ],
   "source": [
    "df = pd.read_excel(\"../数据清洗整理/训练数据2(加入对手特征).xlsx\")\n",
    "df.head()"
   ]
  },
  {
   "cell_type": "code",
   "execution_count": 8,
   "metadata": {},
   "outputs": [
    {
     "data": {
      "text/plain": [
       "(2270, 106)"
      ]
     },
     "execution_count": 8,
     "metadata": {},
     "output_type": "execute_result"
    }
   ],
   "source": [
    "exclude_cols = [\"GAME_ID\",\"PTS\",\"NEXT_CHANGE\",\"TEAM_NAME\",'PTS_CHANGE_OPP']\n",
    "columns = [col for col in df.columns if col not in exclude_cols]\n",
    "X=df[columns].values\n",
    "y=df['NEXT_CHANGE'].values\n",
    "y2=Binarizer(0).transform([y])[0]\n",
    "standard = StandardScaler()\n",
    "standard.fit(X)\n",
    "X=standard.transform(X)\n",
    "X.shape"
   ]
  },
  {
   "cell_type": "code",
   "execution_count": 9,
   "metadata": {},
   "outputs": [
    {
     "data": {
      "text/plain": [
       "(0.74008810572687223,\n",
       " 0.69603524229074887,\n",
       " 0.72026431718061679,\n",
       " 0.74229074889867841)"
      ]
     },
     "execution_count": 9,
     "metadata": {},
     "output_type": "execute_result"
    }
   ],
   "source": [
    "split_num = round(X.shape[0]*0.8)\n",
    "X_train = X[:split_num]\n",
    "y_train = y2[:split_num]\n",
    "X_test = X[split_num:]\n",
    "y_test = y2[split_num:]\n",
    "##########\n",
    "clf = LogisticRegressionCV()\n",
    "clf2=GridSearchCV(KNeighborsClassifier(),{'n_neighbors':[5,10,15]})\n",
    "clf3 = GridSearchCV(SVC(),{'C':[1,2,3]})\n",
    "clf4 = BaggingClassifier(DecisionTreeClassifier(),200)\n",
    "###############\n",
    "clf.fit(X_train,y_train)\n",
    "clf2.fit(X_train,y_train)\n",
    "clf3.fit(X_train,y_train)\n",
    "clf4.fit(X_train,y_train)\n",
    "clf.score(X_test,y_test),clf2.score(X_test,y_test),clf3.score(X_test,y_test),clf4.score(X_test,y_test)"
   ]
  },
  {
   "cell_type": "code",
   "execution_count": 15,
   "metadata": {},
   "outputs": [
    {
     "data": {
      "text/plain": [
       "0.74669603524229078"
      ]
     },
     "execution_count": 15,
     "metadata": {},
     "output_type": "execute_result"
    }
   ],
   "source": [
    "clf4 = BaggingClassifier(DecisionTreeClassifier(),200)\n",
    "clf4.fit(X_train,y_train)\n",
    "clf4.score(X_test,y_test)"
   ]
  },
  {
   "cell_type": "code",
   "execution_count": 21,
   "metadata": {},
   "outputs": [
    {
     "data": {
      "text/plain": [
       "0.74449339207048459"
      ]
     },
     "execution_count": 21,
     "metadata": {},
     "output_type": "execute_result"
    }
   ],
   "source": [
    "clf5 = RandomForestClassifier(200,min_samples_split=2,min_samples_leaf=2)\n",
    "clf5.fit(X_train,y_train)\n",
    "clf5.score(X_test,y_test)"
   ]
  },
  {
   "cell_type": "code",
   "execution_count": 22,
   "metadata": {},
   "outputs": [
    {
     "data": {
      "text/plain": [
       "0.94889867841409692"
      ]
     },
     "execution_count": 22,
     "metadata": {},
     "output_type": "execute_result"
    }
   ],
   "source": [
    "clf5.score(X,y2)"
   ]
  },
  {
   "cell_type": "code",
   "execution_count": 11,
   "metadata": {},
   "outputs": [
    {
     "data": {
      "text/plain": [
       "0.68061674008810569"
      ]
     },
     "execution_count": 11,
     "metadata": {},
     "output_type": "execute_result"
    }
   ],
   "source": [
    "clf5 = AdaBoostClassifier(n_estimators=500,learning_rate=1)\n",
    "clf5.fit(X_train,y_train)\n",
    "clf5.score(X_test,y_test)"
   ]
  }
 ],
 "metadata": {
  "kernelspec": {
   "display_name": "Python 3",
   "language": "python",
   "name": "python3"
  },
  "language_info": {
   "codemirror_mode": {
    "name": "ipython",
    "version": 3
   },
   "file_extension": ".py",
   "mimetype": "text/x-python",
   "name": "python",
   "nbconvert_exporter": "python",
   "pygments_lexer": "ipython3",
   "version": "3.6.1"
  }
 },
 "nbformat": 4,
 "nbformat_minor": 2
}
